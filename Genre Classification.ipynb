{
 "cells": [
  {
   "cell_type": "code",
   "execution_count": null,
   "metadata": {
    "id": "TIT-R8lSIYcl"
   },
   "outputs": [],
   "source": [
    "import numpy as np\n",
    "import pandas as pd\n",
    "import matplotlib.pyplot as plt\n",
    "np.random.seed(0)"
   ]
  },
  {
   "cell_type": "code",
   "execution_count": null,
   "metadata": {
    "colab": {
     "base_uri": "https://localhost:8080/",
     "height": 288
    },
    "id": "nbNYqXjZIgX7",
    "outputId": "81329939-e875-427c-e6fc-7ed64f71b6b9"
   },
   "outputs": [
    {
     "data": {
      "application/vnd.google.colaboratory.intrinsic+json": {
       "summary": "{\n  \"name\": \"data\",\n  \"rows\": 9347,\n  \"fields\": [\n    {\n      \"column\": \"par_id\",\n      \"properties\": {\n        \"dtype\": \"number\",\n        \"std\": 322139880749,\n        \"min\": 85003276,\n        \"max\": 1058779003275,\n        \"num_unique_values\": 9132,\n        \"samples\": [\n          759851002842,\n          77886005808,\n          325706008765\n        ],\n        \"semantic_type\": \"\",\n        \"description\": \"\"\n      }\n    },\n    {\n      \"column\": \"paragraph\",\n      \"properties\": {\n        \"dtype\": \"string\",\n        \"num_unique_values\": 8992,\n        \"samples\": [\n          \"In 1891, Thomas married Mary Kane, daughter of Sir Andrew Clark, heiress to a small fortune, which gave him the finances to hire mammal collectors and present their specimens to the museum. He also did field work himself in Western Europe and South America. His wife shared his interest in natural history, and accompanied him on collecting trips. In 1896, when William Henry Flower took control of the department, he hired Richard Lydekker to rearrange the exhibitions, allowing Thomas to concentrate on these new specimens.Thomas viewed his taxonomy efforts from the scope of British imperialism. \\\"You and I in our scientific lives have seen the general knowledge of Mammals of the world wonderfully advanced \\u2013 there are few or no blank areas anymore,\\\" he said in a letter to Gerrit Smith Miller Jr.Officially retired from the museum in 1923, he continued his work without interruption. Although popular rumours suggested he died by shooting himself with a handgun while sitting at his museum desk, he actually died at home in 1929, aged 71, about a year after the death of his wife, \\\"a severe blow from which he never recovered.\\\"\",\n          \"Disraeli always considered foreign affairs to be the most critical and interesting part of statesmanship. Nevertheless, his biographer Robert Blake doubts that his subject had specific ideas about foreign policy when he took office in 1874. He had rarely travelled abroad; since his youthful tour of the Middle East in 1830\\u20131831, he had left Britain only for his honeymoon and three visits to Paris, the last of which was in 1856. As he had criticised Gladstone for a do-nothing foreign policy, he most probably contemplated what actions would reassert Britain's place in Europe. His brief first premiership, and the first year of his second, gave him little opportunity to make his mark in foreign affairs.\",\n          \"I have sent your Watch at last & envy the felicity of it, that it should be soe near your side & soe often enjoy your Eye. ... .but have a care for it, for I have put such a spell into it; that every Beating of the Balance will tell you 'tis the Pulse of my Heart, which labors as much to serve you and more trewly than the Watch; for the Watch I beleeve will sometimes lie, and sometimes be idle & unwilling ... but as for me you may be confident I shall never ...\"\n        ],\n        \"semantic_type\": \"\",\n        \"description\": \"\"\n      }\n    },\n    {\n      \"column\": \"has_entity\",\n      \"properties\": {\n        \"dtype\": \"category\",\n        \"num_unique_values\": 9,\n        \"samples\": [\n          \"ORG_YES_PRODUCT_YES_PERSON_NO_\",\n          \"ORG_YES_PRODUCT_NO_PERSON_NO_\",\n          \"ORG_NO_PRODUCT_YES_PERSON_YES_\"\n        ],\n        \"semantic_type\": \"\",\n        \"description\": \"\"\n      }\n    },\n    {\n      \"column\": \"lexicon_count\",\n      \"properties\": {\n        \"dtype\": \"number\",\n        \"std\": 63,\n        \"min\": 0,\n        \"max\": 653,\n        \"num_unique_values\": 348,\n        \"samples\": [\n          237,\n          82,\n          274\n        ],\n        \"semantic_type\": \"\",\n        \"description\": \"\"\n      }\n    },\n    {\n      \"column\": \"difficult_words\",\n      \"properties\": {\n        \"dtype\": \"number\",\n        \"std\": 16.307358092882417,\n        \"min\": 0.0,\n        \"max\": 143.0,\n        \"num_unique_values\": 113,\n        \"samples\": [\n          96.0,\n          36.0,\n          15.0\n        ],\n        \"semantic_type\": \"\",\n        \"description\": \"\"\n      }\n    },\n    {\n      \"column\": \"last_editor_gender\",\n      \"properties\": {\n        \"dtype\": \"category\",\n        \"num_unique_values\": 4,\n        \"samples\": [\n          \"non-binary\",\n          \"prefer_not_to_say\",\n          \"man\"\n        ],\n        \"semantic_type\": \"\",\n        \"description\": \"\"\n      }\n    },\n    {\n      \"column\": \"category\",\n      \"properties\": {\n        \"dtype\": \"category\",\n        \"num_unique_values\": 10,\n        \"samples\": [\n          \"Biographies\",\n          \"artificial intelligence\",\n          \"Philosophy\"\n        ],\n        \"semantic_type\": \"\",\n        \"description\": \"\"\n      }\n    },\n    {\n      \"column\": \"text_clarity\",\n      \"properties\": {\n        \"dtype\": \"category\",\n        \"num_unique_values\": 2,\n        \"samples\": [\n          \"not_clear_enough\",\n          \"clear_enough\"\n        ],\n        \"semantic_type\": \"\",\n        \"description\": \"\"\n      }\n    }\n  ]\n}",
       "type": "dataframe",
       "variable_name": "data"
      },
      "text/html": [
       "\n",
       "  <div id=\"df-46bc97ab-c803-4642-97c6-6d261afa9b36\" class=\"colab-df-container\">\n",
       "    <div>\n",
       "<style scoped>\n",
       "    .dataframe tbody tr th:only-of-type {\n",
       "        vertical-align: middle;\n",
       "    }\n",
       "\n",
       "    .dataframe tbody tr th {\n",
       "        vertical-align: top;\n",
       "    }\n",
       "\n",
       "    .dataframe thead th {\n",
       "        text-align: right;\n",
       "    }\n",
       "</style>\n",
       "<table border=\"1\" class=\"dataframe\">\n",
       "  <thead>\n",
       "    <tr style=\"text-align: right;\">\n",
       "      <th></th>\n",
       "      <th>par_id</th>\n",
       "      <th>paragraph</th>\n",
       "      <th>has_entity</th>\n",
       "      <th>lexicon_count</th>\n",
       "      <th>difficult_words</th>\n",
       "      <th>last_editor_gender</th>\n",
       "      <th>category</th>\n",
       "      <th>text_clarity</th>\n",
       "    </tr>\n",
       "  </thead>\n",
       "  <tbody>\n",
       "    <tr>\n",
       "      <th>0</th>\n",
       "      <td>428209002237</td>\n",
       "      <td>Ramsay was born in Glasgow on 2 October 1852. ...</td>\n",
       "      <td>ORG_YES_PRODUCT_NO_PERSON_YES_</td>\n",
       "      <td>49</td>\n",
       "      <td>12.0</td>\n",
       "      <td>man</td>\n",
       "      <td>biographies</td>\n",
       "      <td>clear_enough</td>\n",
       "    </tr>\n",
       "    <tr>\n",
       "      <th>1</th>\n",
       "      <td>564218010072</td>\n",
       "      <td>It has been widely estimated for at least the ...</td>\n",
       "      <td>ORG_YES_PRODUCT_NO_PERSON_NO_</td>\n",
       "      <td>166</td>\n",
       "      <td>47.0</td>\n",
       "      <td>man</td>\n",
       "      <td>artificial intelligence</td>\n",
       "      <td>not_clear_enough</td>\n",
       "    </tr>\n",
       "  </tbody>\n",
       "</table>\n",
       "</div>\n",
       "    <div class=\"colab-df-buttons\">\n",
       "\n",
       "  <div class=\"colab-df-container\">\n",
       "    <button class=\"colab-df-convert\" onclick=\"convertToInteractive('df-46bc97ab-c803-4642-97c6-6d261afa9b36')\"\n",
       "            title=\"Convert this dataframe to an interactive table.\"\n",
       "            style=\"display:none;\">\n",
       "\n",
       "  <svg xmlns=\"http://www.w3.org/2000/svg\" height=\"24px\" viewBox=\"0 -960 960 960\">\n",
       "    <path d=\"M120-120v-720h720v720H120Zm60-500h600v-160H180v160Zm220 220h160v-160H400v160Zm0 220h160v-160H400v160ZM180-400h160v-160H180v160Zm440 0h160v-160H620v160ZM180-180h160v-160H180v160Zm440 0h160v-160H620v160Z\"/>\n",
       "  </svg>\n",
       "    </button>\n",
       "\n",
       "  <style>\n",
       "    .colab-df-container {\n",
       "      display:flex;\n",
       "      gap: 12px;\n",
       "    }\n",
       "\n",
       "    .colab-df-convert {\n",
       "      background-color: #E8F0FE;\n",
       "      border: none;\n",
       "      border-radius: 50%;\n",
       "      cursor: pointer;\n",
       "      display: none;\n",
       "      fill: #1967D2;\n",
       "      height: 32px;\n",
       "      padding: 0 0 0 0;\n",
       "      width: 32px;\n",
       "    }\n",
       "\n",
       "    .colab-df-convert:hover {\n",
       "      background-color: #E2EBFA;\n",
       "      box-shadow: 0px 1px 2px rgba(60, 64, 67, 0.3), 0px 1px 3px 1px rgba(60, 64, 67, 0.15);\n",
       "      fill: #174EA6;\n",
       "    }\n",
       "\n",
       "    .colab-df-buttons div {\n",
       "      margin-bottom: 4px;\n",
       "    }\n",
       "\n",
       "    [theme=dark] .colab-df-convert {\n",
       "      background-color: #3B4455;\n",
       "      fill: #D2E3FC;\n",
       "    }\n",
       "\n",
       "    [theme=dark] .colab-df-convert:hover {\n",
       "      background-color: #434B5C;\n",
       "      box-shadow: 0px 1px 3px 1px rgba(0, 0, 0, 0.15);\n",
       "      filter: drop-shadow(0px 1px 2px rgba(0, 0, 0, 0.3));\n",
       "      fill: #FFFFFF;\n",
       "    }\n",
       "  </style>\n",
       "\n",
       "    <script>\n",
       "      const buttonEl =\n",
       "        document.querySelector('#df-46bc97ab-c803-4642-97c6-6d261afa9b36 button.colab-df-convert');\n",
       "      buttonEl.style.display =\n",
       "        google.colab.kernel.accessAllowed ? 'block' : 'none';\n",
       "\n",
       "      async function convertToInteractive(key) {\n",
       "        const element = document.querySelector('#df-46bc97ab-c803-4642-97c6-6d261afa9b36');\n",
       "        const dataTable =\n",
       "          await google.colab.kernel.invokeFunction('convertToInteractive',\n",
       "                                                    [key], {});\n",
       "        if (!dataTable) return;\n",
       "\n",
       "        const docLinkHtml = 'Like what you see? Visit the ' +\n",
       "          '<a target=\"_blank\" href=https://colab.research.google.com/notebooks/data_table.ipynb>data table notebook</a>'\n",
       "          + ' to learn more about interactive tables.';\n",
       "        element.innerHTML = '';\n",
       "        dataTable['output_type'] = 'display_data';\n",
       "        await google.colab.output.renderOutput(dataTable, element);\n",
       "        const docLink = document.createElement('div');\n",
       "        docLink.innerHTML = docLinkHtml;\n",
       "        element.appendChild(docLink);\n",
       "      }\n",
       "    </script>\n",
       "  </div>\n",
       "\n",
       "\n",
       "<div id=\"df-9deee7d1-2295-466e-a2fc-bb23c59c6f85\">\n",
       "  <button class=\"colab-df-quickchart\" onclick=\"quickchart('df-9deee7d1-2295-466e-a2fc-bb23c59c6f85')\"\n",
       "            title=\"Suggest charts\"\n",
       "            style=\"display:none;\">\n",
       "\n",
       "<svg xmlns=\"http://www.w3.org/2000/svg\" height=\"24px\"viewBox=\"0 0 24 24\"\n",
       "     width=\"24px\">\n",
       "    <g>\n",
       "        <path d=\"M19 3H5c-1.1 0-2 .9-2 2v14c0 1.1.9 2 2 2h14c1.1 0 2-.9 2-2V5c0-1.1-.9-2-2-2zM9 17H7v-7h2v7zm4 0h-2V7h2v10zm4 0h-2v-4h2v4z\"/>\n",
       "    </g>\n",
       "</svg>\n",
       "  </button>\n",
       "\n",
       "<style>\n",
       "  .colab-df-quickchart {\n",
       "      --bg-color: #E8F0FE;\n",
       "      --fill-color: #1967D2;\n",
       "      --hover-bg-color: #E2EBFA;\n",
       "      --hover-fill-color: #174EA6;\n",
       "      --disabled-fill-color: #AAA;\n",
       "      --disabled-bg-color: #DDD;\n",
       "  }\n",
       "\n",
       "  [theme=dark] .colab-df-quickchart {\n",
       "      --bg-color: #3B4455;\n",
       "      --fill-color: #D2E3FC;\n",
       "      --hover-bg-color: #434B5C;\n",
       "      --hover-fill-color: #FFFFFF;\n",
       "      --disabled-bg-color: #3B4455;\n",
       "      --disabled-fill-color: #666;\n",
       "  }\n",
       "\n",
       "  .colab-df-quickchart {\n",
       "    background-color: var(--bg-color);\n",
       "    border: none;\n",
       "    border-radius: 50%;\n",
       "    cursor: pointer;\n",
       "    display: none;\n",
       "    fill: var(--fill-color);\n",
       "    height: 32px;\n",
       "    padding: 0;\n",
       "    width: 32px;\n",
       "  }\n",
       "\n",
       "  .colab-df-quickchart:hover {\n",
       "    background-color: var(--hover-bg-color);\n",
       "    box-shadow: 0 1px 2px rgba(60, 64, 67, 0.3), 0 1px 3px 1px rgba(60, 64, 67, 0.15);\n",
       "    fill: var(--button-hover-fill-color);\n",
       "  }\n",
       "\n",
       "  .colab-df-quickchart-complete:disabled,\n",
       "  .colab-df-quickchart-complete:disabled:hover {\n",
       "    background-color: var(--disabled-bg-color);\n",
       "    fill: var(--disabled-fill-color);\n",
       "    box-shadow: none;\n",
       "  }\n",
       "\n",
       "  .colab-df-spinner {\n",
       "    border: 2px solid var(--fill-color);\n",
       "    border-color: transparent;\n",
       "    border-bottom-color: var(--fill-color);\n",
       "    animation:\n",
       "      spin 1s steps(1) infinite;\n",
       "  }\n",
       "\n",
       "  @keyframes spin {\n",
       "    0% {\n",
       "      border-color: transparent;\n",
       "      border-bottom-color: var(--fill-color);\n",
       "      border-left-color: var(--fill-color);\n",
       "    }\n",
       "    20% {\n",
       "      border-color: transparent;\n",
       "      border-left-color: var(--fill-color);\n",
       "      border-top-color: var(--fill-color);\n",
       "    }\n",
       "    30% {\n",
       "      border-color: transparent;\n",
       "      border-left-color: var(--fill-color);\n",
       "      border-top-color: var(--fill-color);\n",
       "      border-right-color: var(--fill-color);\n",
       "    }\n",
       "    40% {\n",
       "      border-color: transparent;\n",
       "      border-right-color: var(--fill-color);\n",
       "      border-top-color: var(--fill-color);\n",
       "    }\n",
       "    60% {\n",
       "      border-color: transparent;\n",
       "      border-right-color: var(--fill-color);\n",
       "    }\n",
       "    80% {\n",
       "      border-color: transparent;\n",
       "      border-right-color: var(--fill-color);\n",
       "      border-bottom-color: var(--fill-color);\n",
       "    }\n",
       "    90% {\n",
       "      border-color: transparent;\n",
       "      border-bottom-color: var(--fill-color);\n",
       "    }\n",
       "  }\n",
       "</style>\n",
       "\n",
       "  <script>\n",
       "    async function quickchart(key) {\n",
       "      const quickchartButtonEl =\n",
       "        document.querySelector('#' + key + ' button');\n",
       "      quickchartButtonEl.disabled = true;  // To prevent multiple clicks.\n",
       "      quickchartButtonEl.classList.add('colab-df-spinner');\n",
       "      try {\n",
       "        const charts = await google.colab.kernel.invokeFunction(\n",
       "            'suggestCharts', [key], {});\n",
       "      } catch (error) {\n",
       "        console.error('Error during call to suggestCharts:', error);\n",
       "      }\n",
       "      quickchartButtonEl.classList.remove('colab-df-spinner');\n",
       "      quickchartButtonEl.classList.add('colab-df-quickchart-complete');\n",
       "    }\n",
       "    (() => {\n",
       "      let quickchartButtonEl =\n",
       "        document.querySelector('#df-9deee7d1-2295-466e-a2fc-bb23c59c6f85 button');\n",
       "      quickchartButtonEl.style.display =\n",
       "        google.colab.kernel.accessAllowed ? 'block' : 'none';\n",
       "    })();\n",
       "  </script>\n",
       "</div>\n",
       "    </div>\n",
       "  </div>\n"
      ],
      "text/plain": [
       "         par_id                                          paragraph  \\\n",
       "0  428209002237  Ramsay was born in Glasgow on 2 October 1852. ...   \n",
       "1  564218010072  It has been widely estimated for at least the ...   \n",
       "\n",
       "                       has_entity  lexicon_count  difficult_words  \\\n",
       "0  ORG_YES_PRODUCT_NO_PERSON_YES_             49             12.0   \n",
       "1   ORG_YES_PRODUCT_NO_PERSON_NO_            166             47.0   \n",
       "\n",
       "  last_editor_gender                 category      text_clarity  \n",
       "0                man              biographies      clear_enough  \n",
       "1                man  artificial intelligence  not_clear_enough  "
      ]
     },
     "execution_count": 2,
     "metadata": {},
     "output_type": "execute_result"
    }
   ],
   "source": [
    "data=pd.read_csv(\"genre_dataset.csv\")\n",
    "data.head(2)"
   ]
  },
  {
   "cell_type": "code",
   "execution_count": null,
   "metadata": {
    "colab": {
     "base_uri": "https://localhost:8080/"
    },
    "id": "PplrJ6rvIURY",
    "outputId": "da66e1c3-77f3-4bed-deea-43545df97ac4"
   },
   "outputs": [
    {
     "name": "stdout",
     "output_type": "stream",
     "text": [
      "              par_id paragraph                      has_entity  lexicon_count  \\\n",
      "count   9.347000e+03      9347                            9347    9347.000000   \n",
      "unique           NaN      8992                               9            NaN   \n",
      "top              NaN        -1  ORG_YES_PRODUCT_NO_PERSON_YES_            NaN   \n",
      "freq             NaN        42                            3060            NaN   \n",
      "mean    3.568369e+11       NaN                             NaN      81.981277   \n",
      "std     3.221399e+11       NaN                             NaN      63.533532   \n",
      "min     8.500328e+07       NaN                             NaN       0.000000   \n",
      "25%     7.019601e+10       NaN                             NaN      33.000000   \n",
      "50%     2.684380e+11       NaN                             NaN      64.000000   \n",
      "75%     6.124310e+11       NaN                             NaN     117.000000   \n",
      "max     1.058779e+12       NaN                             NaN     653.000000   \n",
      "\n",
      "        difficult_words last_editor_gender     category  text_clarity  \n",
      "count       9329.000000               9347         9286             9  \n",
      "unique              NaN                  4           10             2  \n",
      "top                 NaN                man  biographies  clear_enough  \n",
      "freq                NaN               6244         2942             5  \n",
      "mean          21.514203                NaN          NaN           NaN  \n",
      "std           16.307358                NaN          NaN           NaN  \n",
      "min            0.000000                NaN          NaN           NaN  \n",
      "25%            9.000000                NaN          NaN           NaN  \n",
      "50%           17.000000                NaN          NaN           NaN  \n",
      "75%           30.000000                NaN          NaN           NaN  \n",
      "max          143.000000                NaN          NaN           NaN   par_id                   0\n",
      "paragraph                0\n",
      "has_entity               0\n",
      "lexicon_count            0\n",
      "difficult_words         18\n",
      "last_editor_gender       0\n",
      "category                61\n",
      "text_clarity          9338\n",
      "dtype: int64\n"
     ]
    }
   ],
   "source": [
    "import pandas as pd\n",
    "\n",
    "dataset_description = data.describe(include='all')\n",
    "\n",
    "missing_data = data.isnull().sum()\n",
    "\n",
    "print(dataset_description, missing_data)\n"
   ]
  },
  {
   "cell_type": "code",
   "execution_count": null,
   "metadata": {
    "colab": {
     "base_uri": "https://localhost:8080/"
    },
    "id": "Kc4Sew0uM-8w",
    "outputId": "dfb4a0cb-143e-4fa5-91d7-2301c235f8bb"
   },
   "outputs": [
    {
     "name": "stdout",
     "output_type": "stream",
     "text": [
      "Duplicated Values: 215\n"
     ]
    }
   ],
   "source": [
    "print(\"Duplicated Values:\",data.duplicated().sum())"
   ]
  },
  {
   "cell_type": "code",
   "execution_count": null,
   "metadata": {
    "colab": {
     "base_uri": "https://localhost:8080/"
    },
    "id": "JuDvyC4xNmdJ",
    "outputId": "a8fdc51f-4262-4754-813b-369727d0503c"
   },
   "outputs": [
    {
     "data": {
      "text/plain": [
       "biographies                             2942\n",
       "philosophy                              2585\n",
       "programming                             1980\n",
       "artificial intelligence                 1565\n",
       "movies about artificial intelligence     166\n",
       "Philosophy                                13\n",
       "Biographies                               13\n",
       "Artificial intelligence                   11\n",
       "Programming                               10\n",
       "Movies about artificial intelligence       1\n",
       "Name: category, dtype: int64"
      ]
     },
     "execution_count": 5,
     "metadata": {},
     "output_type": "execute_result"
    }
   ],
   "source": [
    "data[\"category\"].value_counts()"
   ]
  },
  {
   "cell_type": "code",
   "execution_count": null,
   "metadata": {
    "colab": {
     "base_uri": "https://localhost:8080/",
     "height": 1000
    },
    "id": "gaJcjakDNPxj",
    "outputId": "31ad6af4-2e45-473d-da1e-c4549c4b8272"
   },
   "outputs": [
    {
     "name": "stdout",
     "output_type": "stream",
     "text": [
      "Counts of each category in 'has_entity':\n",
      " ORG_YES_PRODUCT_NO_PERSON_YES_     3060\n",
      "ORG_NO_PRODUCT_NO_PERSON_NO_       2874\n",
      "ORG_YES_PRODUCT_NO_PERSON_NO_      1474\n",
      "ORG_NO_PRODUCT_NO_PERSON_YES_      1382\n",
      "ORG_YES_PRODUCT_YES_PERSON_YES_     299\n",
      "ORG_YES_PRODUCT_YES_PERSON_NO_      127\n",
      "ORG_NO_PRODUCT_YES_PERSON_YES_       65\n",
      "ORG_NO_PRODUCT_YES_PERSON_NO_        42\n",
      "data missing                         24\n",
      "Name: has_entity, dtype: int64\n",
      "\n",
      "Percentage of each category in 'has_entity':\n",
      " ORG_YES_PRODUCT_NO_PERSON_YES_     32.737777\n",
      "ORG_NO_PRODUCT_NO_PERSON_NO_       30.747834\n",
      "ORG_YES_PRODUCT_NO_PERSON_NO_      15.769766\n",
      "ORG_NO_PRODUCT_NO_PERSON_YES_      14.785493\n",
      "ORG_YES_PRODUCT_YES_PERSON_YES_     3.198887\n",
      "ORG_YES_PRODUCT_YES_PERSON_NO_      1.358725\n",
      "ORG_NO_PRODUCT_YES_PERSON_YES_      0.695410\n",
      "ORG_NO_PRODUCT_YES_PERSON_NO_       0.449342\n",
      "data missing                        0.256767\n",
      "Name: has_entity, dtype: float64\n"
     ]
    },
    {
     "data": {
      "image/png": "[encoded data removed]",
      "text/plain": [
       "<Figure size 1000x600 with 1 Axes>"
      ]
     },
     "metadata": {},
     "output_type": "display_data"
    },
    {
     "name": "stdout",
     "output_type": "stream",
     "text": [
      "\n",
      "Categories considered as outliers: ['ORG_NO_PRODUCT_YES_PERSON_YES_', 'ORG_NO_PRODUCT_YES_PERSON_NO_', 'data missing']\n"
     ]
    }
   ],
   "source": [
    "import pandas as pd\n",
    "import matplotlib.pyplot as plt\n",
    "import seaborn as sns\n",
    "\n",
    "\n",
    "entity_counts = data['has_entity'].value_counts()\n",
    "print(\"Counts of each category in 'has_entity':\\n\", entity_counts)\n",
    "\n",
    "# Percentage analysis\n",
    "entity_percentages = data['has_entity'].value_counts(normalize=True) * 100\n",
    "print(\"\\nPercentage of each category in 'has_entity':\\n\", entity_percentages)\n",
    "\n",
    "# Visualization\n",
    "plt.figure(figsize=(10, 6))\n",
    "sns.barplot(x=entity_counts.index, y=entity_counts.values)\n",
    "plt.title('Frequency of Each Category in `has_entity`')\n",
    "plt.ylabel('Counts')\n",
    "plt.xticks(rotation=45)\n",
    "plt.show()\n",
    "\n",
    "outlier_threshold = 1\n",
    "outlier_categories = entity_percentages[entity_percentages < outlier_threshold].index.tolist()\n",
    "print(\"\\nCategories considered as outliers:\", outlier_categories)\n"
   ]
  },
  {
   "cell_type": "code",
   "execution_count": null,
   "metadata": {
    "colab": {
     "base_uri": "https://localhost:8080/",
     "height": 1000
    },
    "id": "mVAm8rM5P5tj",
    "outputId": "6dd2cff5-d057-4ba1-a97f-e685a933be5f"
   },
   "outputs": [
    {
     "data": {
      "image/png": "[encoded data removed]",
      "text/plain": [
       "<Figure size 640x480 with 1 Axes>"
      ]
     },
     "metadata": {},
     "output_type": "display_data"
    },
    {
     "data": {
      "image/png": "[encoded data removed]",
      "text/plain": [
       "<Figure size 640x480 with 1 Axes>"
      ]
     },
     "metadata": {},
     "output_type": "display_data"
    },
    {
     "data": {
      "image/png": "[encoded data removed]",
      "text/plain": [
       "<Figure size 640x480 with 1 Axes>"
      ]
     },
     "metadata": {},
     "output_type": "display_data"
    },
    {
     "data": {
      "image/png": "[encoded data removed]",
      "text/plain": [
       "<Figure size 640x480 with 1 Axes>"
      ]
     },
     "metadata": {},
     "output_type": "display_data"
    },
    {
     "data": {
      "image/png": "[encoded data removed]",
      "text/plain": [
       "<Figure size 640x480 with 1 Axes>"
      ]
     },
     "metadata": {},
     "output_type": "display_data"
    },
    {
     "data": {
      "image/png": "[encoded data removed]",
      "text/plain": [
       "<Figure size 640x480 with 1 Axes>"
      ]
     },
     "metadata": {},
     "output_type": "display_data"
    },
    {
     "data": {
      "image/png": "[encoded data removed]",
      "text/plain": [
       "<Figure size 640x480 with 1 Axes>"
      ]
     },
     "metadata": {},
     "output_type": "display_data"
    },
    {
     "name": "stdout",
     "output_type": "stream",
     "text": [
      "                 lexicon_count  difficult_words\n",
      "lexicon_count         1.000000         0.923883\n",
      "difficult_words       0.923883         1.000000\n"
     ]
    }
   ],
   "source": [
    "import matplotlib.pyplot as plt\n",
    "import seaborn as sns\n",
    "import pandas as pd\n",
    "\n",
    "\n",
    "sns.histplot(data['lexicon_count'], bins=30, kde=True)\n",
    "plt.title('Distribution of Lexicon Count')\n",
    "plt.show()\n",
    "\n",
    "sns.histplot(data['difficult_words'].dropna(), bins=30, kde=True)\n",
    "plt.title('Distribution of Difficult Words')\n",
    "plt.show()\n",
    "\n",
    "# Counts of categorical features\n",
    "sns.countplot(y=data['last_editor_gender'])\n",
    "plt.title('Count of Paragraphs by Last Editor Gender')\n",
    "plt.show()\n",
    "\n",
    "sns.countplot(y=data['category'])\n",
    "plt.title('Count of Paragraphs by Category')\n",
    "plt.show()\n",
    "\n",
    "sns.countplot(y=data['text_clarity'])\n",
    "plt.title('Count of Paragraphs by Text Clarity')\n",
    "plt.show()\n",
    "\n",
    "# Boxplot of numerical features\n",
    "sns.boxplot(data=data[['lexicon_count', 'difficult_words']])\n",
    "plt.title('Boxplot of Numerical Features')\n",
    "plt.show()\n",
    "\n",
    "# Scatter plot for relationship between lexicon count and difficult words\n",
    "sns.scatterplot(x='lexicon_count', y='difficult_words', data=data)\n",
    "plt.title('Relationship between Lexicon Count and Difficult Words')\n",
    "plt.show()\n",
    "\n",
    "# Correlation matrix\n",
    "print(data[['lexicon_count', 'difficult_words']].corr())\n"
   ]
  },
  {
   "cell_type": "code",
   "execution_count": null,
   "metadata": {
    "colab": {
     "base_uri": "https://localhost:8080/"
    },
    "id": "oGKmKgQZLL4U",
    "outputId": "e648846a-0308-4514-9184-419dc24aa866"
   },
   "outputs": [
    {
     "name": "stdout",
     "output_type": "stream",
     "text": [
      "Requirement already satisfied: spacy in /usr/local/lib/python3.10/dist-packages (3.7.4)\n",
      "Requirement already satisfied: spacy-legacy<3.1.0,>=3.0.11 in /usr/local/lib/python3.10/dist-packages (from spacy) (3.0.12)\n",
      "Requirement already satisfied: spacy-loggers<2.0.0,>=1.0.0 in /usr/local/lib/python3.10/dist-packages (from spacy) (1.0.5)\n",
      "Requirement already satisfied: murmurhash<1.1.0,>=0.28.0 in /usr/local/lib/python3.10/dist-packages (from spacy) (1.0.10)\n",
      "Requirement already satisfied: cymem<2.1.0,>=2.0.2 in /usr/local/lib/python3.10/dist-packages (from spacy) (2.0.8)\n",
      "Requirement already satisfied: preshed<3.1.0,>=3.0.2 in /usr/local/lib/python3.10/dist-packages (from spacy) (3.0.9)\n",
      "Requirement already satisfied: thinc<8.3.0,>=8.2.2 in /usr/local/lib/python3.10/dist-packages (from spacy) (8.2.3)\n",
      "Requirement already satisfied: wasabi<1.2.0,>=0.9.1 in /usr/local/lib/python3.10/dist-packages (from spacy) (1.1.2)\n",
      "Requirement already satisfied: srsly<3.0.0,>=2.4.3 in /usr/local/lib/python3.10/dist-packages (from spacy) (2.4.8)\n",
      "Requirement already satisfied: catalogue<2.1.0,>=2.0.6 in /usr/local/lib/python3.10/dist-packages (from spacy) (2.0.10)\n",
      "Requirement already satisfied: weasel<0.4.0,>=0.1.0 in /usr/local/lib/python3.10/dist-packages (from spacy) (0.3.4)\n",
      "Requirement already satisfied: typer<0.10.0,>=0.3.0 in /usr/local/lib/python3.10/dist-packages (from spacy) (0.9.0)\n",
      "Requirement already satisfied: smart-open<7.0.0,>=5.2.1 in /usr/local/lib/python3.10/dist-packages (from spacy) (6.4.0)\n",
      "Requirement already satisfied: tqdm<5.0.0,>=4.38.0 in /usr/local/lib/python3.10/dist-packages (from spacy) (4.66.2)\n",
      "Requirement already satisfied: requests<3.0.0,>=2.13.0 in /usr/local/lib/python3.10/dist-packages (from spacy) (2.31.0)\n",
      "Requirement already satisfied: pydantic!=1.8,!=1.8.1,<3.0.0,>=1.7.4 in /usr/local/lib/python3.10/dist-packages (from spacy) (2.6.4)\n",
      "Requirement already satisfied: jinja2 in /usr/local/lib/python3.10/dist-packages (from spacy) (3.1.3)\n",
      "Requirement already satisfied: setuptools in /usr/local/lib/python3.10/dist-packages (from spacy) (67.7.2)\n",
      "Requirement already satisfied: packaging>=20.0 in /usr/local/lib/python3.10/dist-packages (from spacy) (24.0)\n",
      "Requirement already satisfied: langcodes<4.0.0,>=3.2.0 in /usr/local/lib/python3.10/dist-packages (from spacy) (3.3.0)\n",
      "Requirement already satisfied: numpy>=1.19.0 in /usr/local/lib/python3.10/dist-packages (from spacy) (1.25.2)\n",
      "Requirement already satisfied: annotated-types>=0.4.0 in /usr/local/lib/python3.10/dist-packages (from pydantic!=1.8,!=1.8.1,<3.0.0,>=1.7.4->spacy) (0.6.0)\n",
      "Requirement already satisfied: pydantic-core==2.16.3 in /usr/local/lib/python3.10/dist-packages (from pydantic!=1.8,!=1.8.1,<3.0.0,>=1.7.4->spacy) (2.16.3)\n",
      "Requirement already satisfied: typing-extensions>=4.6.1 in /usr/local/lib/python3.10/dist-packages (from pydantic!=1.8,!=1.8.1,<3.0.0,>=1.7.4->spacy) (4.10.0)\n",
      "Requirement already satisfied: charset-normalizer<4,>=2 in /usr/local/lib/python3.10/dist-packages (from requests<3.0.0,>=2.13.0->spacy) (3.3.2)\n",
      "Requirement already satisfied: idna<4,>=2.5 in /usr/local/lib/python3.10/dist-packages (from requests<3.0.0,>=2.13.0->spacy) (3.6)\n",
      "Requirement already satisfied: urllib3<3,>=1.21.1 in /usr/local/lib/python3.10/dist-packages (from requests<3.0.0,>=2.13.0->spacy) (2.0.7)\n",
      "Requirement already satisfied: certifi>=2017.4.17 in /usr/local/lib/python3.10/dist-packages (from requests<3.0.0,>=2.13.0->spacy) (2024.2.2)\n",
      "Requirement already satisfied: blis<0.8.0,>=0.7.8 in /usr/local/lib/python3.10/dist-packages (from thinc<8.3.0,>=8.2.2->spacy) (0.7.11)\n",
      "Requirement already satisfied: confection<1.0.0,>=0.0.1 in /usr/local/lib/python3.10/dist-packages (from thinc<8.3.0,>=8.2.2->spacy) (0.1.4)\n",
      "Requirement already satisfied: click<9.0.0,>=7.1.1 in /usr/local/lib/python3.10/dist-packages (from typer<0.10.0,>=0.3.0->spacy) (8.1.7)\n",
      "Requirement already satisfied: cloudpathlib<0.17.0,>=0.7.0 in /usr/local/lib/python3.10/dist-packages (from weasel<0.4.0,>=0.1.0->spacy) (0.16.0)\n",
      "Requirement already satisfied: MarkupSafe>=2.0 in /usr/local/lib/python3.10/dist-packages (from jinja2->spacy) (2.1.5)\n",
      "Collecting en-core-web-md==3.7.1\n",
      "  Downloading https://github.com/explosion/spacy-models/releases/download/en_core_web_md-3.7.1/en_core_web_md-3.7.1-py3-none-any.whl (42.8 MB)\n",
      "\u001b[2K     \u001b[90m━━━━━━━━━━━━━━━━━━━━━━━━━━━━━━━━━━━━━━━━\u001b[0m \u001b[32m42.8/42.8 MB\u001b[0m \u001b[31m18.7 MB/s\u001b[0m eta \u001b[36m0:00:00\u001b[0m\n",
      "\u001b[?25hRequirement already satisfied: spacy<3.8.0,>=3.7.2 in /usr/local/lib/python3.10/dist-packages (from en-core-web-md==3.7.1) (3.7.4)\n",
      "Requirement already satisfied: spacy-legacy<3.1.0,>=3.0.11 in /usr/local/lib/python3.10/dist-packages (from spacy<3.8.0,>=3.7.2->en-core-web-md==3.7.1) (3.0.12)\n",
      "Requirement already satisfied: spacy-loggers<2.0.0,>=1.0.0 in /usr/local/lib/python3.10/dist-packages (from spacy<3.8.0,>=3.7.2->en-core-web-md==3.7.1) (1.0.5)\n",
      "Requirement already satisfied: murmurhash<1.1.0,>=0.28.0 in /usr/local/lib/python3.10/dist-packages (from spacy<3.8.0,>=3.7.2->en-core-web-md==3.7.1) (1.0.10)\n",
      "Requirement already satisfied: cymem<2.1.0,>=2.0.2 in /usr/local/lib/python3.10/dist-packages (from spacy<3.8.0,>=3.7.2->en-core-web-md==3.7.1) (2.0.8)\n",
      "Requirement already satisfied: preshed<3.1.0,>=3.0.2 in /usr/local/lib/python3.10/dist-packages (from spacy<3.8.0,>=3.7.2->en-core-web-md==3.7.1) (3.0.9)\n",
      "Requirement already satisfied: thinc<8.3.0,>=8.2.2 in /usr/local/lib/python3.10/dist-packages (from spacy<3.8.0,>=3.7.2->en-core-web-md==3.7.1) (8.2.3)\n",
      "Requirement already satisfied: wasabi<1.2.0,>=0.9.1 in /usr/local/lib/python3.10/dist-packages (from spacy<3.8.0,>=3.7.2->en-core-web-md==3.7.1) (1.1.2)\n",
      "Requirement already satisfied: srsly<3.0.0,>=2.4.3 in /usr/local/lib/python3.10/dist-packages (from spacy<3.8.0,>=3.7.2->en-core-web-md==3.7.1) (2.4.8)\n",
      "Requirement already satisfied: catalogue<2.1.0,>=2.0.6 in /usr/local/lib/python3.10/dist-packages (from spacy<3.8.0,>=3.7.2->en-core-web-md==3.7.1) (2.0.10)\n",
      "Requirement already satisfied: weasel<0.4.0,>=0.1.0 in /usr/local/lib/python3.10/dist-packages (from spacy<3.8.0,>=3.7.2->en-core-web-md==3.7.1) (0.3.4)\n",
      "Requirement already satisfied: typer<0.10.0,>=0.3.0 in /usr/local/lib/python3.10/dist-packages (from spacy<3.8.0,>=3.7.2->en-core-web-md==3.7.1) (0.9.0)\n",
      "Requirement already satisfied: smart-open<7.0.0,>=5.2.1 in /usr/local/lib/python3.10/dist-packages (from spacy<3.8.0,>=3.7.2->en-core-web-md==3.7.1) (6.4.0)\n",
      "Requirement already satisfied: tqdm<5.0.0,>=4.38.0 in /usr/local/lib/python3.10/dist-packages (from spacy<3.8.0,>=3.7.2->en-core-web-md==3.7.1) (4.66.2)\n",
      "Requirement already satisfied: requests<3.0.0,>=2.13.0 in /usr/local/lib/python3.10/dist-packages (from spacy<3.8.0,>=3.7.2->en-core-web-md==3.7.1) (2.31.0)\n",
      "Requirement already satisfied: pydantic!=1.8,!=1.8.1,<3.0.0,>=1.7.4 in /usr/local/lib/python3.10/dist-packages (from spacy<3.8.0,>=3.7.2->en-core-web-md==3.7.1) (2.6.4)\n",
      "Requirement already satisfied: jinja2 in /usr/local/lib/python3.10/dist-packages (from spacy<3.8.0,>=3.7.2->en-core-web-md==3.7.1) (3.1.3)\n",
      "Requirement already satisfied: setuptools in /usr/local/lib/python3.10/dist-packages (from spacy<3.8.0,>=3.7.2->en-core-web-md==3.7.1) (67.7.2)\n",
      "Requirement already satisfied: packaging>=20.0 in /usr/local/lib/python3.10/dist-packages (from spacy<3.8.0,>=3.7.2->en-core-web-md==3.7.1) (24.0)\n",
      "Requirement already satisfied: langcodes<4.0.0,>=3.2.0 in /usr/local/lib/python3.10/dist-packages (from spacy<3.8.0,>=3.7.2->en-core-web-md==3.7.1) (3.3.0)\n",
      "Requirement already satisfied: numpy>=1.19.0 in /usr/local/lib/python3.10/dist-packages (from spacy<3.8.0,>=3.7.2->en-core-web-md==3.7.1) (1.25.2)\n",
      "Requirement already satisfied: annotated-types>=0.4.0 in /usr/local/lib/python3.10/dist-packages (from pydantic!=1.8,!=1.8.1,<3.0.0,>=1.7.4->spacy<3.8.0,>=3.7.2->en-core-web-md==3.7.1) (0.6.0)\n",
      "Requirement already satisfied: pydantic-core==2.16.3 in /usr/local/lib/python3.10/dist-packages (from pydantic!=1.8,!=1.8.1,<3.0.0,>=1.7.4->spacy<3.8.0,>=3.7.2->en-core-web-md==3.7.1) (2.16.3)\n",
      "Requirement already satisfied: typing-extensions>=4.6.1 in /usr/local/lib/python3.10/dist-packages (from pydantic!=1.8,!=1.8.1,<3.0.0,>=1.7.4->spacy<3.8.0,>=3.7.2->en-core-web-md==3.7.1) (4.10.0)\n",
      "Requirement already satisfied: charset-normalizer<4,>=2 in /usr/local/lib/python3.10/dist-packages (from requests<3.0.0,>=2.13.0->spacy<3.8.0,>=3.7.2->en-core-web-md==3.7.1) (3.3.2)\n",
      "Requirement already satisfied: idna<4,>=2.5 in /usr/local/lib/python3.10/dist-packages (from requests<3.0.0,>=2.13.0->spacy<3.8.0,>=3.7.2->en-core-web-md==3.7.1) (3.6)\n",
      "Requirement already satisfied: urllib3<3,>=1.21.1 in /usr/local/lib/python3.10/dist-packages (from requests<3.0.0,>=2.13.0->spacy<3.8.0,>=3.7.2->en-core-web-md==3.7.1) (2.0.7)\n",
      "Requirement already satisfied: certifi>=2017.4.17 in /usr/local/lib/python3.10/dist-packages (from requests<3.0.0,>=2.13.0->spacy<3.8.0,>=3.7.2->en-core-web-md==3.7.1) (2024.2.2)\n",
      "Requirement already satisfied: blis<0.8.0,>=0.7.8 in /usr/local/lib/python3.10/dist-packages (from thinc<8.3.0,>=8.2.2->spacy<3.8.0,>=3.7.2->en-core-web-md==3.7.1) (0.7.11)\n",
      "Requirement already satisfied: confection<1.0.0,>=0.0.1 in /usr/local/lib/python3.10/dist-packages (from thinc<8.3.0,>=8.2.2->spacy<3.8.0,>=3.7.2->en-core-web-md==3.7.1) (0.1.4)\n",
      "Requirement already satisfied: click<9.0.0,>=7.1.1 in /usr/local/lib/python3.10/dist-packages (from typer<0.10.0,>=0.3.0->spacy<3.8.0,>=3.7.2->en-core-web-md==3.7.1) (8.1.7)\n",
      "Requirement already satisfied: cloudpathlib<0.17.0,>=0.7.0 in /usr/local/lib/python3.10/dist-packages (from weasel<0.4.0,>=0.1.0->spacy<3.8.0,>=3.7.2->en-core-web-md==3.7.1) (0.16.0)\n",
      "Requirement already satisfied: MarkupSafe>=2.0 in /usr/local/lib/python3.10/dist-packages (from jinja2->spacy<3.8.0,>=3.7.2->en-core-web-md==3.7.1) (2.1.5)\n",
      "Installing collected packages: en-core-web-md\n",
      "Successfully installed en-core-web-md-3.7.1\n",
      "\u001b[38;5;2m✔ Download and installation successful\u001b[0m\n",
      "You can now load the package via spacy.load('en_core_web_md')\n",
      "\u001b[38;5;3m⚠ Restart to reload dependencies\u001b[0m\n",
      "If you are in a Jupyter or Colab notebook, you may need to restart Python in\n",
      "order to load all the package's dependencies. You can do this by selecting the\n",
      "'Restart kernel' or 'Restart runtime' option.\n",
      "Collecting clean-text\n",
      "  Downloading clean_text-0.6.0-py3-none-any.whl (11 kB)\n",
      "Collecting emoji<2.0.0,>=1.0.0 (from clean-text)\n",
      "  Downloading emoji-1.7.0.tar.gz (175 kB)\n",
      "\u001b[2K     \u001b[90m━━━━━━━━━━━━━━━━━━━━━━━━━━━━━━━━━━━━━━━━\u001b[0m \u001b[32m175.4/175.4 kB\u001b[0m \u001b[31m4.5 MB/s\u001b[0m eta \u001b[36m0:00:00\u001b[0m\n",
      "\u001b[?25h  Preparing metadata (setup.py) ... \u001b[?25l\u001b[?25hdone\n",
      "Collecting ftfy<7.0,>=6.0 (from clean-text)\n",
      "  Downloading ftfy-6.2.0-py3-none-any.whl (54 kB)\n",
      "\u001b[2K     \u001b[90m━━━━━━━━━━━━━━━━━━━━━━━━━━━━━━━━━━━━━━━━\u001b[0m \u001b[32m54.4/54.4 kB\u001b[0m \u001b[31m6.2 MB/s\u001b[0m eta \u001b[36m0:00:00\u001b[0m\n",
      "\u001b[?25hRequirement already satisfied: wcwidth<0.3.0,>=0.2.12 in /usr/local/lib/python3.10/dist-packages (from ftfy<7.0,>=6.0->clean-text) (0.2.13)\n",
      "Building wheels for collected packages: emoji\n",
      "  Building wheel for emoji (setup.py) ... \u001b[?25l\u001b[?25hdone\n",
      "  Created wheel for emoji: filename=emoji-1.7.0-py3-none-any.whl size=171034 sha256=f27625b99a633a179827a353dca0c18e0c7f3248691f163f8c3ba99304c36abc\n",
      "  Stored in directory: /root/.cache/pip/wheels/31/8a/8c/315c9e5d7773f74b33d5ed33f075b49c6eaeb7cedbb86e2cf8\n",
      "Successfully built emoji\n",
      "Installing collected packages: emoji, ftfy, clean-text\n",
      "Successfully installed clean-text-0.6.0 emoji-1.7.0 ftfy-6.2.0\n",
      "Requirement already satisfied: nltk in /usr/local/lib/python3.10/dist-packages (3.8.1)\n",
      "Requirement already satisfied: click in /usr/local/lib/python3.10/dist-packages (from nltk) (8.1.7)\n",
      "Requirement already satisfied: joblib in /usr/local/lib/python3.10/dist-packages (from nltk) (1.3.2)\n",
      "Requirement already satisfied: regex>=2021.8.3 in /usr/local/lib/python3.10/dist-packages (from nltk) (2023.12.25)\n",
      "Requirement already satisfied: tqdm in /usr/local/lib/python3.10/dist-packages (from nltk) (4.66.2)\n"
     ]
    }
   ],
   "source": [
    "!pip install --upgrade spacy\n",
    "!python -m spacy download en_core_web_md\n",
    "!pip install clean-text\n",
    "!pip install nltk\n"
   ]
  },
  {
   "cell_type": "code",
   "execution_count": null,
   "metadata": {
    "colab": {
     "base_uri": "https://localhost:8080/",
     "height": 951
    },
    "id": "o490Xl9WKlLR",
    "outputId": "3d4a4189-6609-4c60-b27d-7f85b74941bf"
   },
   "outputs": [
    {
     "name": "stderr",
     "output_type": "stream",
     "text": [
      "<ipython-input-9-01c5c8eeeffc>:2: SettingWithCopyWarning: \n",
      "A value is trying to be set on a copy of a slice from a DataFrame.\n",
      "Try using .loc[row_indexer,col_indexer] = value instead\n",
      "\n",
      "See the caveats in the documentation: https://pandas.pydata.org/pandas-docs/stable/user_guide/indexing.html#returning-a-view-versus-a-copy\n",
      "  df['category']=df[\"category\"].str.lower()\n"
     ]
    },
    {
     "data": {
      "image/png": "[encoded data removed]",
      "text/plain": [
       "<Figure size 1500x1100 with 1 Axes>"
      ]
     },
     "metadata": {},
     "output_type": "display_data"
    }
   ],
   "source": [
    "df=data[[\"paragraph\",\"has_entity\",\"category\"]]\n",
    "df['category']=df[\"category\"].str.lower()\n",
    "df.head(5)\n",
    "class_counts = df['category'].value_counts()\n",
    "\n",
    "plt.figure(figsize=(15, 11))\n",
    "class_counts.plot(kind='bar')\n",
    "plt.title('Class Distribution')\n",
    "plt.xlabel('Category')\n",
    "plt.ylabel('Frequency')\n",
    "plt.xticks(rotation=0)\n",
    "plt.show()"
   ]
  },
  {
   "cell_type": "code",
   "execution_count": null,
   "metadata": {
    "colab": {
     "base_uri": "https://localhost:8080/"
    },
    "id": "ICoGdOwlKlcM",
    "outputId": "b8814807-eacb-455c-818c-ef6301f10591"
   },
   "outputs": [
    {
     "name": "stdout",
     "output_type": "stream",
     "text": [
      "paragraph      0\n",
      "has_entity     0\n",
      "category      61\n",
      "dtype: int64\n"
     ]
    }
   ],
   "source": [
    "missing_values = df.isnull().sum()\n",
    "\n",
    "print(missing_values)\n",
    "df=df.dropna()"
   ]
  },
  {
   "cell_type": "code",
   "execution_count": null,
   "metadata": {
    "colab": {
     "base_uri": "https://localhost:8080/"
    },
    "id": "E94RLMBPKxdE",
    "outputId": "0386812d-44b9-4797-a634-a7da17788516"
   },
   "outputs": [
    {
     "name": "stdout",
     "output_type": "stream",
     "text": [
      "ORG_YES_PRODUCT_NO_PERSON_YES_     3038\n",
      "ORG_NO_PRODUCT_NO_PERSON_NO_       2856\n",
      "ORG_YES_PRODUCT_NO_PERSON_NO_      1465\n",
      "ORG_NO_PRODUCT_NO_PERSON_YES_      1374\n",
      "ORG_YES_PRODUCT_YES_PERSON_YES_     298\n",
      "ORG_YES_PRODUCT_YES_PERSON_NO_      125\n",
      "ORG_NO_PRODUCT_YES_PERSON_YES_       64\n",
      "ORG_NO_PRODUCT_YES_PERSON_NO_        42\n",
      "data missing                         24\n",
      "Name: has_entity, dtype: int64\n",
      "biographies                             2955\n",
      "philosophy                              2598\n",
      "programming                             1990\n",
      "artificial intelligence                 1576\n",
      "movies about artificial intelligence     167\n",
      "Name: category, dtype: int64\n"
     ]
    }
   ],
   "source": [
    "print(df.has_entity.value_counts())\n",
    "print(df.category.value_counts())"
   ]
  },
  {
   "cell_type": "code",
   "execution_count": null,
   "metadata": {
    "colab": {
     "base_uri": "https://localhost:8080/"
    },
    "id": "o4gFWqjWK3WX",
    "outputId": "77e75961-52a6-4e77-91b9-903eb1a8be66"
   },
   "outputs": [
    {
     "name": "stdout",
     "output_type": "stream",
     "text": [
      "Label encoding mapping (Encoded value : Original label):\n",
      "0 : ORG_NO_PRODUCT_NO_PERSON_NO_\n",
      "1 : ORG_NO_PRODUCT_NO_PERSON_YES_\n",
      "2 : ORG_NO_PRODUCT_YES_PERSON_NO_\n",
      "3 : ORG_NO_PRODUCT_YES_PERSON_YES_\n",
      "4 : ORG_YES_PRODUCT_NO_PERSON_NO_\n",
      "5 : ORG_YES_PRODUCT_NO_PERSON_YES_\n",
      "6 : ORG_YES_PRODUCT_YES_PERSON_NO_\n",
      "7 : ORG_YES_PRODUCT_YES_PERSON_YES_\n",
      "8 : data missing\n"
     ]
    }
   ],
   "source": [
    "from sklearn.preprocessing import LabelEncoder\n",
    "\n",
    "label_encoder = LabelEncoder()\n",
    "\n",
    "df['has_entity'] = label_encoder.fit_transform(df['has_entity'])\n",
    "\n",
    "\n",
    "encoded_classes = label_encoder.classes_\n",
    "label_mapping = {i: label for i, label in enumerate(encoded_classes)}\n",
    "\n",
    "\n",
    "print(\"Label encoding mapping (Encoded value : Original label):\")\n",
    "for encoded_value, original_label in label_mapping.items():\n",
    "    print(f\"{encoded_value} : {original_label}\")\n"
   ]
  },
  {
   "cell_type": "code",
   "execution_count": null,
   "metadata": {
    "colab": {
     "base_uri": "https://localhost:8080/"
    },
    "id": "tGa2SVCtL4wq",
    "outputId": "59a9d165-8dfb-4fa4-b350-2d35ca07a2e8"
   },
   "outputs": [
    {
     "name": "stdout",
     "output_type": "stream",
     "text": [
      "Label encoding mapping (Encoded value : Original label):\n",
      "0 : artificial intelligence\n",
      "1 : biographies\n",
      "2 : movies about artificial intelligence\n",
      "3 : philosophy\n",
      "4 : programming\n"
     ]
    }
   ],
   "source": [
    "from sklearn.preprocessing import LabelEncoder\n",
    "\n",
    "\n",
    "label_encoder = LabelEncoder()\n",
    "\n",
    "df['category'] = label_encoder.fit_transform(df['category'])\n",
    "\n",
    "\n",
    "encoded_classes = label_encoder.classes_\n",
    "\n",
    "label_mapping = {i: label for i, label in enumerate(encoded_classes)}\n",
    "\n",
    "print(\"Label encoding mapping (Encoded value : Original label):\")\n",
    "for encoded_value, original_label in label_mapping.items():\n",
    "    print(f\"{encoded_value} : {original_label}\")\n"
   ]
  },
  {
   "cell_type": "code",
   "execution_count": null,
   "metadata": {
    "colab": {
     "base_uri": "https://localhost:8080/"
    },
    "id": "nbRtsYeJL6ZS",
    "outputId": "2dbdb618-e9d8-4183-dd3c-047064f43fa0"
   },
   "outputs": [
    {
     "name": "stderr",
     "output_type": "stream",
     "text": [
      "WARNING:root:Since the GPL-licensed package `unidecode` is not installed, using Python's `unicodedata` package which yields worse results.\n"
     ]
    }
   ],
   "source": [
    "from cleantext import clean\n",
    "\n",
    "def clean_text(x):\n",
    "  return clean(x,\n",
    "    fix_unicode=True,               # fix various unicode errors\n",
    "    lower=True,                     # change all text to lowercase\n",
    "    no_line_breaks=True,           # this removes occurrences of the newline character \"\\n\"\n",
    "    no_punct=False,                 # let's NOT remove punctuations for the time being\n",
    "    no_urls=True,                  # replace all URLs with a special token (below)\n",
    "    replace_with_url=\"\",          # we decide to replace urls with nothing\n",
    "    no_emails=True,                # replace all email addresses with a special token\n",
    "    replace_with_email=\"\",        # we decide to replace emails with nothing\n",
    "    no_phone_numbers=True,         # replace all phone numbers with a special token\n",
    "    replace_with_phone_number=\"\",   # we decide to replace phone numbers with nothing\n",
    "    lang=\"en\"                       # set to 'de' for German special handling\n",
    "    )"
   ]
  },
  {
   "cell_type": "code",
   "execution_count": null,
   "metadata": {
    "id": "2g24HqHgL8IA"
   },
   "outputs": [],
   "source": [
    "df[\"clean_text\"]=df['paragraph'].apply(clean_text)"
   ]
  },
  {
   "cell_type": "code",
   "execution_count": null,
   "metadata": {
    "id": "5U1d-v56L-tq"
   },
   "outputs": [],
   "source": [
    "import spacy\n",
    "nlp = spacy.load('en_core_web_md')"
   ]
  },
  {
   "cell_type": "code",
   "execution_count": null,
   "metadata": {
    "id": "3qdiwImiMCsC"
   },
   "outputs": [],
   "source": [
    "def process_text(text):\n",
    "    doc = nlp(text)\n",
    "    cleaned_list = [token.lemma_ for token in doc if not token.is_stop and not token.is_punct and not token.is_space]\n",
    "    cleaned_text = ' '.join(cleaned_list)\n",
    "    return cleaned_text"
   ]
  },
  {
   "cell_type": "code",
   "execution_count": null,
   "metadata": {
    "id": "S8OZY2whCc-2"
   },
   "outputs": [],
   "source": []
  },
  {
   "cell_type": "code",
   "execution_count": null,
   "metadata": {
    "id": "kIGrEh0eMic9"
   },
   "outputs": [],
   "source": [
    "df['clean_text'] = df['clean_text'].apply(process_text)"
   ]
  },
  {
   "cell_type": "code",
   "execution_count": null,
   "metadata": {
    "id": "sXvpU2oyCltD"
   },
   "outputs": [],
   "source": [
    "import pandas as pd\n",
    "from sklearn.model_selection import train_test_split\n",
    "\n",
    "X_train, X_test, y_train, y_test = train_test_split(df[['clean_text', 'has_entity']],\n",
    "                                                    df['category'],\n",
    "                                                    test_size=0.2,\n",
    "                                                    random_state=42)"
   ]
  },
  {
   "cell_type": "code",
   "execution_count": null,
   "metadata": {
    "id": "84bH0A2yCo5C"
   },
   "outputs": [],
   "source": [
    "from sklearn.feature_extraction.text import TfidfVectorizer\n",
    "\n",
    "tfidf_vectorizer = TfidfVectorizer()\n",
    "\n",
    "\n",
    "X_train_tfidf = tfidf_vectorizer.fit_transform(X_train['clean_text'])\n",
    "\n",
    "\n",
    "X_test_tfidf = tfidf_vectorizer.transform(X_test['clean_text'])\n"
   ]
  },
  {
   "cell_type": "code",
   "execution_count": null,
   "metadata": {
    "id": "h68WWJHNCrGM"
   },
   "outputs": [],
   "source": [
    "import scipy.sparse as sp\n",
    "\n",
    "\n",
    "X_train_combined = sp.hstack((X_train_tfidf, X_train['has_entity'].values[:, None]), format='csr')\n",
    "X_test_combined = sp.hstack((X_test_tfidf, X_test['has_entity'].values[:, None]), format='csr')\n"
   ]
  },
  {
   "cell_type": "code",
   "execution_count": null,
   "metadata": {
    "colab": {
     "base_uri": "https://localhost:8080/"
    },
    "id": "IY85OD_nCt5U",
    "outputId": "4a6d20af-bc74-4f5c-e264-ce2c7676754c"
   },
   "outputs": [
    {
     "name": "stdout",
     "output_type": "stream",
     "text": [
      "Accuracy: 0.933799784714747\n",
      "Classification Report:\n",
      "              precision    recall  f1-score   support\n",
      "\n",
      "           0       0.94      0.89      0.92       305\n",
      "           1       0.92      0.95      0.94       622\n",
      "           2       1.00      0.67      0.80        30\n",
      "           3       0.90      0.93      0.92       500\n",
      "           4       0.98      0.96      0.97       401\n",
      "\n",
      "    accuracy                           0.93      1858\n",
      "   macro avg       0.95      0.88      0.91      1858\n",
      "weighted avg       0.93      0.93      0.93      1858\n",
      "\n"
     ]
    }
   ],
   "source": [
    "from sklearn.linear_model import LogisticRegression\n",
    "from sklearn.metrics import classification_report, accuracy_score\n",
    "\n",
    "\n",
    "model = LogisticRegression(multi_class='multinomial', solver='lbfgs', max_iter=1000)\n",
    "\n",
    "# Fit the model on the training data\n",
    "model.fit(X_train_combined, y_train)\n",
    "\n",
    "# Make predictions on the test data\n",
    "y_pred = model.predict(X_test_combined)\n",
    "\n",
    "# Evaluate the model\n",
    "print(\"Accuracy:\", accuracy_score(y_test, y_pred))\n",
    "print(\"Classification Report:\")\n",
    "print(classification_report(y_test, y_pred))\n"
   ]
  },
  {
   "cell_type": "code",
   "execution_count": null,
   "metadata": {
    "colab": {
     "base_uri": "https://localhost:8080/"
    },
    "id": "37pcaLdyo7DA",
    "outputId": "6313c38c-bcc1-4f1b-b185-8215c529e335"
   },
   "outputs": [
    {
     "name": "stdout",
     "output_type": "stream",
     "text": [
      "Classification Report:\n",
      "              precision    recall  f1-score   support\n",
      "\n",
      "           0       0.91      0.78      0.84       305\n",
      "           1       0.91      0.89      0.90       622\n",
      "           2       0.94      0.53      0.68        30\n",
      "           3       0.83      0.91      0.87       500\n",
      "           4       0.91      0.96      0.93       401\n",
      "\n",
      "    accuracy                           0.88      1858\n",
      "   macro avg       0.90      0.81      0.84      1858\n",
      "weighted avg       0.89      0.88      0.88      1858\n",
      "\n"
     ]
    }
   ],
   "source": [
    "from sklearn.ensemble import RandomForestClassifier\n",
    "from sklearn.metrics import classification_report\n",
    "\n",
    "\n",
    "model = RandomForestClassifier()\n",
    "model.fit(X_train_combined, y_train)\n",
    "\n",
    "\n",
    "y_pred = model.predict(X_test_combined)\n",
    "\n",
    "print(\"Classification Report:\")\n",
    "print(classification_report(y_test, y_pred))\n"
   ]
  },
  {
   "cell_type": "code",
   "execution_count": null,
   "metadata": {
    "colab": {
     "base_uri": "https://localhost:8080/"
    },
    "id": "M3w7cFNWpFRa",
    "outputId": "b77c729c-d576-4f1c-bcec-80308a84456c"
   },
   "outputs": [
    {
     "name": "stdout",
     "output_type": "stream",
     "text": [
      "Classification Report:\n",
      "              precision    recall  f1-score   support\n",
      "\n",
      "           0       0.92      0.74      0.82       305\n",
      "           1       0.82      0.91      0.86       622\n",
      "           2       0.86      0.83      0.85        30\n",
      "           3       0.82      0.87      0.84       500\n",
      "           4       0.94      0.86      0.90       401\n",
      "\n",
      "    accuracy                           0.86      1858\n",
      "   macro avg       0.87      0.84      0.85      1858\n",
      "weighted avg       0.86      0.86      0.86      1858\n",
      "\n"
     ]
    }
   ],
   "source": [
    "from sklearn.ensemble import GradientBoostingClassifier\n",
    "from sklearn.metrics import classification_report\n",
    "\n",
    "\n",
    "model = GradientBoostingClassifier()\n",
    "model.fit(X_train_combined, y_train)\n",
    "\n",
    "y_pred = model.predict(X_test_combined)\n",
    "\n",
    "# Evaluate the model\n",
    "print(\"Classification Report:\")\n",
    "print(classification_report(y_test, y_pred))\n"
   ]
  },
  {
   "cell_type": "code",
   "execution_count": null,
   "metadata": {
    "colab": {
     "base_uri": "https://localhost:8080/"
    },
    "id": "qjesBLxnDc-V",
    "outputId": "3fce3125-5f42-4c5f-998d-7dd4e046393d"
   },
   "outputs": [
    {
     "name": "stdout",
     "output_type": "stream",
     "text": [
      "SVM Classification Report:\n",
      "              precision    recall  f1-score   support\n",
      "\n",
      "           0       0.94      0.92      0.93       305\n",
      "           1       0.95      0.96      0.95       622\n",
      "           2       1.00      0.87      0.93        30\n",
      "           3       0.93      0.94      0.93       500\n",
      "           4       0.98      0.98      0.98       401\n",
      "\n",
      "    accuracy                           0.95      1858\n",
      "   macro avg       0.96      0.93      0.94      1858\n",
      "weighted avg       0.95      0.95      0.95      1858\n",
      "\n"
     ]
    }
   ],
   "source": [
    "import pandas as pd\n",
    "from sklearn.model_selection import train_test_split\n",
    "from sklearn.feature_extraction.text import TfidfVectorizer\n",
    "from sklearn.svm import SVC\n",
    "from sklearn.metrics import classification_report\n",
    "from sklearn.pipeline import make_pipeline\n",
    "from sklearn.compose import ColumnTransformer\n",
    "import scipy.sparse as sp\n",
    "\n",
    "X_train, X_test, y_train, y_test = train_test_split(\n",
    "    df[['clean_text', 'has_entity']],\n",
    "    df['category'],\n",
    "    test_size=0.2,\n",
    "    random_state=42\n",
    ")\n",
    "\n",
    "\n",
    "tfidf_vectorizer = TfidfVectorizer()\n",
    "\n",
    "\n",
    "preprocessor = ColumnTransformer(\n",
    "    transformers=[\n",
    "        ('text', tfidf_vectorizer, 'clean_text'),\n",
    "        ('pass', 'passthrough', ['has_entity'])\n",
    "    ]\n",
    ")\n",
    "\n",
    "\n",
    "svm = SVC(kernel='linear')\n",
    "\n",
    "\n",
    "clf = make_pipeline(preprocessor, svm)\n",
    "\n",
    "\n",
    "clf.fit(X_train, y_train)\n",
    "\n",
    "\n",
    "y_pred = clf.predict(X_test)\n",
    "\n",
    "\n",
    "print(\"SVM Classification Report:\")\n",
    "print(classification_report(y_test, y_pred))\n"
   ]
  },
  {
   "cell_type": "code",
   "execution_count": null,
   "metadata": {
    "colab": {
     "base_uri": "https://localhost:8080/"
    },
    "id": "Qo9_z1mDNi3h",
    "outputId": "d0cecd1d-a294-47ff-caa3-bbf4d3e27be0"
   },
   "outputs": [
    {
     "name": "stdout",
     "output_type": "stream",
     "text": [
      "Fitting 5 folds for each of 12 candidates, totalling 60 fits\n",
      "Best parameters set found on development set:\n",
      "{'columntransformer__text__max_features': 3000, 'svc__C': 1, 'svc__kernel': 'linear'}\n",
      "SVM Classification Report (with GridSearchCV):\n",
      "              precision    recall  f1-score   support\n",
      "\n",
      "           0       0.91      0.90      0.91       305\n",
      "           1       0.95      0.94      0.94       622\n",
      "           2       0.96      0.90      0.93        30\n",
      "           3       0.90      0.93      0.92       500\n",
      "           4       0.97      0.96      0.96       401\n",
      "\n",
      "    accuracy                           0.93      1858\n",
      "   macro avg       0.94      0.93      0.93      1858\n",
      "weighted avg       0.94      0.93      0.93      1858\n",
      "\n"
     ]
    }
   ],
   "source": [
    "import pandas as pd\n",
    "from sklearn.model_selection import train_test_split, GridSearchCV\n",
    "from sklearn.feature_extraction.text import TfidfVectorizer\n",
    "from sklearn.svm import SVC\n",
    "from sklearn.metrics import classification_report\n",
    "from sklearn.pipeline import make_pipeline\n",
    "from sklearn.compose import ColumnTransformer\n",
    "\n",
    "\n",
    "X_train, X_test, y_train, y_test = train_test_split(\n",
    "    df[['clean_text', 'has_entity']],\n",
    "    df['category'],\n",
    "    test_size=0.2,\n",
    "    random_state=42\n",
    ")\n",
    "\n",
    "\n",
    "tfidf_vectorizer = TfidfVectorizer()\n",
    "preprocessor = ColumnTransformer(\n",
    "    transformers=[\n",
    "        ('text', tfidf_vectorizer, 'clean_text'),\n",
    "        ('pass', 'passthrough', ['has_entity'])\n",
    "    ]\n",
    ")\n",
    "\n",
    "\n",
    "svm = SVC(kernel='linear')\n",
    "\n",
    "\n",
    "pipeline = make_pipeline(preprocessor, svm)\n",
    "\n",
    "\n",
    "param_grid = {\n",
    "    'columntransformer__text__max_features': [1000,2000, 3000],  # TF-IDF max_features\n",
    "    'svc__C': [0.1, 1],  # SVM C parameter\n",
    "    'svc__kernel': ['linear', 'rbf']\n",
    "}\n",
    "\n",
    "\n",
    "grid_search = GridSearchCV(pipeline, param_grid, cv=5, scoring='accuracy', verbose=1)\n",
    "\n",
    "\n",
    "grid_search.fit(X_train, y_train)\n",
    "\n",
    "\n",
    "print(\"Best parameters set found on development set:\")\n",
    "print(grid_search.best_params_)\n",
    "\n",
    "\n",
    "y_pred = grid_search.predict(X_test)\n",
    "\n",
    "\n",
    "print(\"SVM Classification Report (with GridSearchCV):\")\n",
    "print(classification_report(y_test, y_pred))\n"
   ]
  },
  {
   "cell_type": "code",
   "execution_count": null,
   "metadata": {
    "colab": {
     "base_uri": "https://localhost:8080/"
    },
    "id": "42X1pGjwGgHn",
    "outputId": "2661b7ed-6cd3-4df2-93e7-e084c24f6741"
   },
   "outputs": [
    {
     "name": "stdout",
     "output_type": "stream",
     "text": [
      "Fitting 5 folds for each of 9 candidates, totalling 45 fits\n",
      "Best parameters set found on development set:\n",
      "{'columntransformer__text__max_features': 3000, 'svc__C': 1.0, 'svc__kernel': 'linear'}\n",
      "SVM Classification Report (with GridSearchCV):\n",
      "              precision    recall  f1-score   support\n",
      "\n",
      "           0       0.91      0.90      0.91       305\n",
      "           1       0.95      0.94      0.94       622\n",
      "           2       0.96      0.90      0.93        30\n",
      "           3       0.90      0.93      0.92       500\n",
      "           4       0.97      0.96      0.96       401\n",
      "\n",
      "    accuracy                           0.93      1858\n",
      "   macro avg       0.94      0.93      0.93      1858\n",
      "weighted avg       0.94      0.93      0.93      1858\n",
      "\n"
     ]
    }
   ],
   "source": [
    "\n",
    "import pandas as pd\n",
    "from sklearn.model_selection import train_test_split, GridSearchCV\n",
    "from sklearn.feature_extraction.text import TfidfVectorizer\n",
    "from sklearn.svm import SVC\n",
    "from sklearn.metrics import classification_report\n",
    "from sklearn.pipeline import make_pipeline\n",
    "from sklearn.compose import ColumnTransformer\n",
    "\n",
    "\n",
    "X_train, X_test, y_train, y_test = train_test_split(\n",
    "    df[['clean_text', 'has_entity']],\n",
    "    df['category'],\n",
    "    test_size=0.2,\n",
    "    random_state=42\n",
    ")\n",
    "\n",
    "\n",
    "tfidf_vectorizer = TfidfVectorizer()\n",
    "preprocessor = ColumnTransformer(\n",
    "    transformers=[\n",
    "        ('text', tfidf_vectorizer, 'clean_text'),\n",
    "        ('pass', 'passthrough', ['has_entity'])\n",
    "    ]\n",
    ")\n",
    "\n",
    "\n",
    "svm = SVC(kernel='linear')\n",
    "\n",
    "\n",
    "pipeline = make_pipeline(preprocessor, svm)\n",
    "\n",
    "\n",
    "param_grid = {\n",
    "    'columntransformer__text__max_features': [3000],\n",
    "    'svc__C': [0.01, 0.1, 1.],\n",
    "    'svc__kernel': ['linear', 'rbf', 'poly']\n",
    "}\n",
    "\n",
    "\n",
    "grid_search = GridSearchCV(pipeline, param_grid, cv=5, scoring='accuracy', verbose=1,n_jobs=-1)\n",
    "\n",
    "\n",
    "grid_search.fit(X_train, y_train)\n",
    "\n",
    "\n",
    "print(\"Best parameters set found on development set:\")\n",
    "print(grid_search.best_params_)\n",
    "\n",
    "\n",
    "y_pred = grid_search.predict(X_test)\n",
    "\n",
    "\n",
    "print(\"SVM Classification Report (with GridSearchCV):\")\n",
    "print(classification_report(y_test, y_pred))\n"
   ]
  },
  {
   "cell_type": "code",
   "execution_count": null,
   "metadata": {
    "colab": {
     "base_uri": "https://localhost:8080/",
     "height": 472
    },
    "id": "N-WLHhF7YXuk",
    "outputId": "3c6ea982-af1a-48f3-f4d6-bd95fb9e281b"
   },
   "outputs": [
    {
     "data": {
      "image/png": "[encoded data removed]",
      "text/plain": [
       "<Figure size 640x480 with 2 Axes>"
      ]
     },
     "metadata": {},
     "output_type": "display_data"
    }
   ],
   "source": [
    "import matplotlib.pyplot as plt\n",
    "from sklearn.metrics import confusion_matrix, ConfusionMatrixDisplay\n",
    "\n",
    "\n",
    "cm = confusion_matrix(y_test, y_pred)\n",
    "\n",
    "\n",
    "disp = ConfusionMatrixDisplay(confusion_matrix=cm, display_labels=grid_search.classes_)\n",
    "\n",
    "# Plotting the confusion matrix\n",
    "disp.plot(cmap=plt.cm.Blues)\n",
    "plt.title('Confusion Matrix')\n",
    "plt.show()\n"
   ]
  },
  {
   "cell_type": "code",
   "execution_count": null,
   "metadata": {
    "colab": {
     "base_uri": "https://localhost:8080/",
     "height": 1000
    },
    "id": "YZIVodnzv_JN",
    "outputId": "c3475d8a-7298-415e-e4fd-4dbbbaa763b6"
   },
   "outputs": [
    {
     "name": "stdout",
     "output_type": "stream",
     "text": [
      "Trivial Classifier Classification Report:\n",
      "              precision    recall  f1-score   support\n",
      "\n",
      "           0       0.17      0.19      0.18       305\n",
      "           1       0.31      0.18      0.23       622\n",
      "           2       0.02      0.30      0.04        30\n",
      "           3       0.25      0.20      0.22       500\n",
      "           4       0.18      0.16      0.17       401\n",
      "\n",
      "    accuracy                           0.19      1858\n",
      "   macro avg       0.19      0.21      0.17      1858\n",
      "weighted avg       0.24      0.19      0.20      1858\n",
      "\n"
     ]
    },
    {
     "data": {
      "text/plain": [
       "<sklearn.metrics._plot.confusion_matrix.ConfusionMatrixDisplay at 0x78c05ba176a0>"
      ]
     },
     "execution_count": 29,
     "metadata": {},
     "output_type": "execute_result"
    },
    {
     "data": {
      "image/png": "[encoded data removed]",
      "text/plain": [
       "<Figure size 640x480 with 2 Axes>"
      ]
     },
     "metadata": {},
     "output_type": "display_data"
    },
    {
     "data": {
      "image/png": "[encoded data removed]",
      "text/plain": [
       "<Figure size 640x480 with 2 Axes>"
      ]
     },
     "metadata": {},
     "output_type": "display_data"
    }
   ],
   "source": [
    "from sklearn.dummy import DummyClassifier\n",
    "from sklearn.metrics import ConfusionMatrixDisplay\n",
    "\n",
    "trivial_clf = DummyClassifier(strategy=\"uniform\")\n",
    "trivial_clf.fit(X_train, y_train)\n",
    "y_trivial = trivial_clf.predict(X_test)\n",
    "\n",
    "print(\"Trivial Classifier Classification Report:\")\n",
    "print(classification_report(y_test, y_trivial))\n",
    "\n",
    "# Confusion matrix display\n",
    "cm_display = ConfusionMatrixDisplay.from_estimator(trivial_clf, X_test, y_test)\n",
    "cm_display.plot()"
   ]
  },
  {
   "cell_type": "code",
   "execution_count": null,
   "metadata": {
    "id": "Nizd2KaLPwoB"
   },
   "outputs": [],
   "source": [
    "data=pd.read_csv(\"labelled_dataset.csv\")"
   ]
  },
  {
   "cell_type": "code",
   "execution_count": null,
   "metadata": {
    "id": "QLtvRy9LK72n"
   },
   "outputs": [],
   "source": [
    "data=data.drop(columns=[\"par_id\"])"
   ]
  },
  {
   "cell_type": "code",
   "execution_count": null,
   "metadata": {
    "colab": {
     "base_uri": "https://localhost:8080/"
    },
    "id": "FDKjdT6qLI9Y",
    "outputId": "47753b5b-b11b-4e52-8aed-2c9de6d48773"
   },
   "outputs": [
    {
     "name": "stdout",
     "output_type": "stream",
     "text": [
      "Missing values in the first 100 rows:\n",
      "paragraph             0\n",
      "has_entity            0\n",
      "lexicon_count         0\n",
      "difficult_words       1\n",
      "last_editor_gender    0\n",
      "category              0\n",
      "text_clarity          0\n",
      "dtype: int64\n"
     ]
    }
   ],
   "source": [
    "# Check for missing values in the first 100 rows\n",
    "missing_values_first_100 = data.head(100).isnull().sum()\n",
    "\n",
    "# Print the missing values\n",
    "print(\"Missing values in the first 100 rows:\")\n",
    "print(missing_values_first_100)\n"
   ]
  },
  {
   "cell_type": "code",
   "execution_count": null,
   "metadata": {
    "colab": {
     "base_uri": "https://localhost:8080/"
    },
    "id": "YaNORUBUWSun",
    "outputId": "40451b97-22e6-47ec-8223-c63abdb06f56"
   },
   "outputs": [
    {
     "name": "stdout",
     "output_type": "stream",
     "text": [
      "Missing values in the first 100 rows after filling:\n",
      "paragraph             0\n",
      "has_entity            0\n",
      "lexicon_count         0\n",
      "difficult_words       0\n",
      "last_editor_gender    0\n",
      "category              0\n",
      "text_clarity          0\n",
      "dtype: int64\n"
     ]
    }
   ],
   "source": [
    "\n",
    "average_difficult_words_first_100 = data['difficult_words'].head(100).mean()\n",
    "\n",
    "\n",
    "data.loc[:100, 'difficult_words'] = data.loc[:100, 'difficult_words'].fillna(average_difficult_words_first_100)\n",
    "\n",
    "\n",
    "missing_values_after_fill_first_100 = data.head(100).isnull().sum()\n",
    "print(\"Missing values in the first 100 rows after filling:\")\n",
    "print(missing_values_after_fill_first_100)\n"
   ]
  },
  {
   "cell_type": "code",
   "execution_count": null,
   "metadata": {
    "colab": {
     "base_uri": "https://localhost:8080/"
    },
    "id": "Eibnxd-Wgpt9",
    "outputId": "d125f1d6-b052-4a65-c845-e9d198cd8311"
   },
   "outputs": [
    {
     "name": "stdout",
     "output_type": "stream",
     "text": [
      "0       False\n",
      "1       False\n",
      "2       False\n",
      "3       False\n",
      "4       False\n",
      "        ...  \n",
      "9342    False\n",
      "9343    False\n",
      "9344    False\n",
      "9345    False\n",
      "9346    False\n",
      "Length: 9347, dtype: bool\n"
     ]
    }
   ],
   "source": [
    "print(data.duplicated())\n",
    "data=data.drop_duplicates()"
   ]
  },
  {
   "cell_type": "code",
   "execution_count": null,
   "metadata": {
    "colab": {
     "base_uri": "https://localhost:8080/"
    },
    "id": "HpBxmhMKhSUl",
    "outputId": "b2aa05ac-5998-4f66-972f-ca3feaa38aa6"
   },
   "outputs": [
    {
     "data": {
      "text/plain": [
       "9105"
      ]
     },
     "execution_count": 35,
     "metadata": {},
     "output_type": "execute_result"
    }
   ],
   "source": [
    "len(data)"
   ]
  },
  {
   "cell_type": "code",
   "execution_count": null,
   "metadata": {
    "colab": {
     "base_uri": "https://localhost:8080/"
    },
    "id": "f3nXCP_YXX60",
    "outputId": "5db376e8-4f2f-492b-978d-3e50ce43eed6"
   },
   "outputs": [
    {
     "name": "stdout",
     "output_type": "stream",
     "text": [
      "ORG_YES_PRODUCT_NO_PERSON_YES_     2993\n",
      "ORG_NO_PRODUCT_NO_PERSON_NO_       2777\n",
      "ORG_YES_PRODUCT_NO_PERSON_NO_      1442\n",
      "ORG_NO_PRODUCT_NO_PERSON_YES_      1347\n",
      "ORG_YES_PRODUCT_YES_PERSON_YES_     292\n",
      "ORG_YES_PRODUCT_YES_PERSON_NO_      124\n",
      "ORG_NO_PRODUCT_YES_PERSON_YES_       64\n",
      "ORG_NO_PRODUCT_YES_PERSON_NO_        42\n",
      "data missing                         24\n",
      "Name: has_entity, dtype: int64\n",
      "biographies                             2882\n",
      "philosophy                              2497\n",
      "programming                             1933\n",
      "artificial intelligence                 1523\n",
      "movies about artificial intelligence     162\n",
      "Philosophy                                13\n",
      "Biographies                               13\n",
      "Programming                               10\n",
      "Artificial intelligence                   10\n",
      "Movies about artificial intelligence       1\n",
      "Name: category, dtype: int64\n",
      "not_clear_enough    55\n",
      "clear_enough        45\n",
      "Name: text_clarity, dtype: int64\n",
      "man                  6077\n",
      "woman                2410\n",
      "non-binary            353\n",
      "prefer_not_to_say     265\n",
      "Name: last_editor_gender, dtype: int64\n"
     ]
    }
   ],
   "source": [
    "print(data.has_entity.value_counts())\n",
    "print(data.category.value_counts())\n",
    "print(data.text_clarity.value_counts())\n",
    "print(data.last_editor_gender.value_counts())"
   ]
  },
  {
   "cell_type": "code",
   "execution_count": null,
   "metadata": {
    "id": "BNJRmwyLXylP"
   },
   "outputs": [],
   "source": [
    "\n",
    "data['category']=data[\"category\"].str.lower()\n"
   ]
  },
  {
   "cell_type": "code",
   "execution_count": null,
   "metadata": {
    "colab": {
     "base_uri": "https://localhost:8080/"
    },
    "id": "QZUYY4jlYXVr",
    "outputId": "bd7a70cb-4c59-49c4-90f9-134db256b16c"
   },
   "outputs": [
    {
     "name": "stdout",
     "output_type": "stream",
     "text": [
      "biographies                             2895\n",
      "philosophy                              2510\n",
      "programming                             1943\n",
      "artificial intelligence                 1533\n",
      "movies about artificial intelligence     163\n",
      "Name: category, dtype: int64\n"
     ]
    },
    {
     "data": {
      "text/plain": [
       "Index(['paragraph', 'has_entity', 'lexicon_count', 'difficult_words',\n",
       "       'last_editor_gender', 'category', 'text_clarity'],\n",
       "      dtype='object')"
      ]
     },
     "execution_count": 38,
     "metadata": {},
     "output_type": "execute_result"
    }
   ],
   "source": [
    "\n",
    "print(data.category.value_counts())\n",
    "data.columns\n"
   ]
  },
  {
   "cell_type": "code",
   "execution_count": null,
   "metadata": {
    "id": "Dry5TVKcYdJQ"
   },
   "outputs": [],
   "source": [
    "y=data[\"text_clarity\"]\n",
    "X=data.drop(columns=\"text_clarity\")"
   ]
  },
  {
   "cell_type": "code",
   "execution_count": null,
   "metadata": {
    "colab": {
     "base_uri": "https://localhost:8080/"
    },
    "id": "thHKtj-nmFO1",
    "outputId": "fb92b2cb-5ed6-4c36-888e-244db2a00dfd"
   },
   "outputs": [
    {
     "name": "stdout",
     "output_type": "stream",
     "text": [
      "9005\n"
     ]
    }
   ],
   "source": [
    "X.head()\n",
    "X=X.dropna()\n",
    "print(y.isnull().sum())"
   ]
  },
  {
   "cell_type": "code",
   "execution_count": null,
   "metadata": {
    "colab": {
     "base_uri": "https://localhost:8080/"
    },
    "id": "8RJcW4CNoX9h",
    "outputId": "4823216d-5189-434f-e87f-56cdba557d39"
   },
   "outputs": [
    {
     "name": "stdout",
     "output_type": "stream",
     "text": [
      "Index(['paragraph', 'has_entity', 'lexicon_count', 'difficult_words',\n",
      "       'last_editor_gender', 'category'],\n",
      "      dtype='object')\n"
     ]
    }
   ],
   "source": [
    "print(X.columns)"
   ]
  },
  {
   "cell_type": "code",
   "execution_count": null,
   "metadata": {
    "id": "0GY0cvvKpWKr"
   },
   "outputs": [],
   "source": [
    "X[\"clean_text\"]=X['paragraph'].apply(clean_text)"
   ]
  },
  {
   "cell_type": "code",
   "execution_count": null,
   "metadata": {
    "id": "zy0W3lQype_k"
   },
   "outputs": [],
   "source": [
    "import spacy\n",
    "nlp = spacy.load('en_core_web_md')"
   ]
  },
  {
   "cell_type": "code",
   "execution_count": null,
   "metadata": {
    "id": "tb-OXr0xpimT"
   },
   "outputs": [],
   "source": [
    "def process_text(text):\n",
    "    doc = nlp(text)\n",
    "    cleaned_list = [token.lemma_ for token in doc if not token.is_stop and not token.is_punct and not token.is_space]\n",
    "    cleaned_text = ' '.join(cleaned_list)\n",
    "    return cleaned_text"
   ]
  },
  {
   "cell_type": "code",
   "execution_count": null,
   "metadata": {
    "id": "HoY9RVU6pp-d"
   },
   "outputs": [],
   "source": [
    "X['paragraph'] = X['clean_text'].apply(process_text)"
   ]
  },
  {
   "cell_type": "code",
   "execution_count": null,
   "metadata": {
    "id": "_90Rfw0Xpswx"
   },
   "outputs": [],
   "source": [
    "X = pd.get_dummies(X, columns=['last_editor_gender', 'category','has_entity'])"
   ]
  },
  {
   "cell_type": "code",
   "execution_count": null,
   "metadata": {
    "id": "QqjMRSJfrjk7"
   },
   "outputs": [],
   "source": [
    "X=X.drop(columns=\"clean_text\")"
   ]
  },
  {
   "cell_type": "code",
   "execution_count": null,
   "metadata": {
    "colab": {
     "base_uri": "https://localhost:8080/",
     "height": 776
    },
    "id": "XMMJSkTGqwMB",
    "outputId": "e508989a-daa0-417c-a001-70b40f58d625"
   },
   "outputs": [
    {
     "data": {
      "application/vnd.google.colaboratory.intrinsic+json": {
       "type": "dataframe",
       "variable_name": "X"
      },
      "text/html": [
       "\n",
       "  <div id=\"df-0bbb6fc5-95ac-47d7-934c-00ef3e0711c2\" class=\"colab-df-container\">\n",
       "    <div>\n",
       "<style scoped>\n",
       "    .dataframe tbody tr th:only-of-type {\n",
       "        vertical-align: middle;\n",
       "    }\n",
       "\n",
       "    .dataframe tbody tr th {\n",
       "        vertical-align: top;\n",
       "    }\n",
       "\n",
       "    .dataframe thead th {\n",
       "        text-align: right;\n",
       "    }\n",
       "</style>\n",
       "<table border=\"1\" class=\"dataframe\">\n",
       "  <thead>\n",
       "    <tr style=\"text-align: right;\">\n",
       "      <th></th>\n",
       "      <th>paragraph</th>\n",
       "      <th>lexicon_count</th>\n",
       "      <th>difficult_words</th>\n",
       "      <th>last_editor_gender_man</th>\n",
       "      <th>last_editor_gender_non-binary</th>\n",
       "      <th>last_editor_gender_prefer_not_to_say</th>\n",
       "      <th>last_editor_gender_woman</th>\n",
       "      <th>category_artificial intelligence</th>\n",
       "      <th>category_biographies</th>\n",
       "      <th>category_movies about artificial intelligence</th>\n",
       "      <th>...</th>\n",
       "      <th>category_programming</th>\n",
       "      <th>has_entity_ORG_NO_PRODUCT_NO_PERSON_NO_</th>\n",
       "      <th>has_entity_ORG_NO_PRODUCT_NO_PERSON_YES_</th>\n",
       "      <th>has_entity_ORG_NO_PRODUCT_YES_PERSON_NO_</th>\n",
       "      <th>has_entity_ORG_NO_PRODUCT_YES_PERSON_YES_</th>\n",
       "      <th>has_entity_ORG_YES_PRODUCT_NO_PERSON_NO_</th>\n",
       "      <th>has_entity_ORG_YES_PRODUCT_NO_PERSON_YES_</th>\n",
       "      <th>has_entity_ORG_YES_PRODUCT_YES_PERSON_NO_</th>\n",
       "      <th>has_entity_ORG_YES_PRODUCT_YES_PERSON_YES_</th>\n",
       "      <th>has_entity_data missing</th>\n",
       "    </tr>\n",
       "  </thead>\n",
       "  <tbody>\n",
       "    <tr>\n",
       "      <th>0</th>\n",
       "      <td>ramsay bear glasgow 2 october 1852 nephew geol...</td>\n",
       "      <td>49</td>\n",
       "      <td>12.0</td>\n",
       "      <td>1</td>\n",
       "      <td>0</td>\n",
       "      <td>0</td>\n",
       "      <td>0</td>\n",
       "      <td>0</td>\n",
       "      <td>1</td>\n",
       "      <td>0</td>\n",
       "      <td>...</td>\n",
       "      <td>0</td>\n",
       "      <td>0</td>\n",
       "      <td>0</td>\n",
       "      <td>0</td>\n",
       "      <td>0</td>\n",
       "      <td>0</td>\n",
       "      <td>1</td>\n",
       "      <td>0</td>\n",
       "      <td>0</td>\n",
       "      <td>0</td>\n",
       "    </tr>\n",
       "    <tr>\n",
       "      <th>1</th>\n",
       "      <td>widely estimate generation program resource de...</td>\n",
       "      <td>166</td>\n",
       "      <td>47.0</td>\n",
       "      <td>1</td>\n",
       "      <td>0</td>\n",
       "      <td>0</td>\n",
       "      <td>0</td>\n",
       "      <td>1</td>\n",
       "      <td>0</td>\n",
       "      <td>0</td>\n",
       "      <td>...</td>\n",
       "      <td>0</td>\n",
       "      <td>0</td>\n",
       "      <td>0</td>\n",
       "      <td>0</td>\n",
       "      <td>0</td>\n",
       "      <td>1</td>\n",
       "      <td>0</td>\n",
       "      <td>0</td>\n",
       "      <td>0</td>\n",
       "      <td>0</td>\n",
       "    </tr>\n",
       "    <tr>\n",
       "      <th>2</th>\n",
       "      <td>go win royal medal royal society 1971 copley m...</td>\n",
       "      <td>69</td>\n",
       "      <td>18.0</td>\n",
       "      <td>0</td>\n",
       "      <td>1</td>\n",
       "      <td>0</td>\n",
       "      <td>0</td>\n",
       "      <td>0</td>\n",
       "      <td>1</td>\n",
       "      <td>0</td>\n",
       "      <td>...</td>\n",
       "      <td>0</td>\n",
       "      <td>0</td>\n",
       "      <td>0</td>\n",
       "      <td>0</td>\n",
       "      <td>0</td>\n",
       "      <td>1</td>\n",
       "      <td>0</td>\n",
       "      <td>0</td>\n",
       "      <td>0</td>\n",
       "      <td>0</td>\n",
       "    </tr>\n",
       "    <tr>\n",
       "      <th>3</th>\n",
       "      <td>change alter underlie assumption right thing r...</td>\n",
       "      <td>76</td>\n",
       "      <td>27.0</td>\n",
       "      <td>0</td>\n",
       "      <td>1</td>\n",
       "      <td>0</td>\n",
       "      <td>0</td>\n",
       "      <td>0</td>\n",
       "      <td>0</td>\n",
       "      <td>0</td>\n",
       "      <td>...</td>\n",
       "      <td>1</td>\n",
       "      <td>0</td>\n",
       "      <td>0</td>\n",
       "      <td>1</td>\n",
       "      <td>0</td>\n",
       "      <td>0</td>\n",
       "      <td>0</td>\n",
       "      <td>0</td>\n",
       "      <td>0</td>\n",
       "      <td>0</td>\n",
       "    </tr>\n",
       "    <tr>\n",
       "      <th>4</th>\n",
       "      <td>novel publish disraeli declare write turn atte...</td>\n",
       "      <td>200</td>\n",
       "      <td>47.0</td>\n",
       "      <td>1</td>\n",
       "      <td>0</td>\n",
       "      <td>0</td>\n",
       "      <td>0</td>\n",
       "      <td>0</td>\n",
       "      <td>1</td>\n",
       "      <td>0</td>\n",
       "      <td>...</td>\n",
       "      <td>0</td>\n",
       "      <td>0</td>\n",
       "      <td>0</td>\n",
       "      <td>0</td>\n",
       "      <td>0</td>\n",
       "      <td>0</td>\n",
       "      <td>0</td>\n",
       "      <td>0</td>\n",
       "      <td>1</td>\n",
       "      <td>0</td>\n",
       "    </tr>\n",
       "  </tbody>\n",
       "</table>\n",
       "<p>5 rows × 21 columns</p>\n",
       "</div>\n",
       "    <div class=\"colab-df-buttons\">\n",
       "\n",
       "  <div class=\"colab-df-container\">\n",
       "    <button class=\"colab-df-convert\" onclick=\"convertToInteractive('df-0bbb6fc5-95ac-47d7-934c-00ef3e0711c2')\"\n",
       "            title=\"Convert this dataframe to an interactive table.\"\n",
       "            style=\"display:none;\">\n",
       "\n",
       "  <svg xmlns=\"http://www.w3.org/2000/svg\" height=\"24px\" viewBox=\"0 -960 960 960\">\n",
       "    <path d=\"M120-120v-720h720v720H120Zm60-500h600v-160H180v160Zm220 220h160v-160H400v160Zm0 220h160v-160H400v160ZM180-400h160v-160H180v160Zm440 0h160v-160H620v160ZM180-180h160v-160H180v160Zm440 0h160v-160H620v160Z\"/>\n",
       "  </svg>\n",
       "    </button>\n",
       "\n",
       "  <style>\n",
       "    .colab-df-container {\n",
       "      display:flex;\n",
       "      gap: 12px;\n",
       "    }\n",
       "\n",
       "    .colab-df-convert {\n",
       "      background-color: #E8F0FE;\n",
       "      border: none;\n",
       "      border-radius: 50%;\n",
       "      cursor: pointer;\n",
       "      display: none;\n",
       "      fill: #1967D2;\n",
       "      height: 32px;\n",
       "      padding: 0 0 0 0;\n",
       "      width: 32px;\n",
       "    }\n",
       "\n",
       "    .colab-df-convert:hover {\n",
       "      background-color: #E2EBFA;\n",
       "      box-shadow: 0px 1px 2px rgba(60, 64, 67, 0.3), 0px 1px 3px 1px rgba(60, 64, 67, 0.15);\n",
       "      fill: #174EA6;\n",
       "    }\n",
       "\n",
       "    .colab-df-buttons div {\n",
       "      margin-bottom: 4px;\n",
       "    }\n",
       "\n",
       "    [theme=dark] .colab-df-convert {\n",
       "      background-color: #3B4455;\n",
       "      fill: #D2E3FC;\n",
       "    }\n",
       "\n",
       "    [theme=dark] .colab-df-convert:hover {\n",
       "      background-color: #434B5C;\n",
       "      box-shadow: 0px 1px 3px 1px rgba(0, 0, 0, 0.15);\n",
       "      filter: drop-shadow(0px 1px 2px rgba(0, 0, 0, 0.3));\n",
       "      fill: #FFFFFF;\n",
       "    }\n",
       "  </style>\n",
       "\n",
       "    <script>\n",
       "      const buttonEl =\n",
       "        document.querySelector('#df-0bbb6fc5-95ac-47d7-934c-00ef3e0711c2 button.colab-df-convert');\n",
       "      buttonEl.style.display =\n",
       "        google.colab.kernel.accessAllowed ? 'block' : 'none';\n",
       "\n",
       "      async function convertToInteractive(key) {\n",
       "        const element = document.querySelector('#df-0bbb6fc5-95ac-47d7-934c-00ef3e0711c2');\n",
       "        const dataTable =\n",
       "          await google.colab.kernel.invokeFunction('convertToInteractive',\n",
       "                                                    [key], {});\n",
       "        if (!dataTable) return;\n",
       "\n",
       "        const docLinkHtml = 'Like what you see? Visit the ' +\n",
       "          '<a target=\"_blank\" href=https://colab.research.google.com/notebooks/data_table.ipynb>data table notebook</a>'\n",
       "          + ' to learn more about interactive tables.';\n",
       "        element.innerHTML = '';\n",
       "        dataTable['output_type'] = 'display_data';\n",
       "        await google.colab.output.renderOutput(dataTable, element);\n",
       "        const docLink = document.createElement('div');\n",
       "        docLink.innerHTML = docLinkHtml;\n",
       "        element.appendChild(docLink);\n",
       "      }\n",
       "    </script>\n",
       "  </div>\n",
       "\n",
       "\n",
       "<div id=\"df-b8bcf2a9-6ac7-4ade-ab7e-911c2c17e817\">\n",
       "  <button class=\"colab-df-quickchart\" onclick=\"quickchart('df-b8bcf2a9-6ac7-4ade-ab7e-911c2c17e817')\"\n",
       "            title=\"Suggest charts\"\n",
       "            style=\"display:none;\">\n",
       "\n",
       "<svg xmlns=\"http://www.w3.org/2000/svg\" height=\"24px\"viewBox=\"0 0 24 24\"\n",
       "     width=\"24px\">\n",
       "    <g>\n",
       "        <path d=\"M19 3H5c-1.1 0-2 .9-2 2v14c0 1.1.9 2 2 2h14c1.1 0 2-.9 2-2V5c0-1.1-.9-2-2-2zM9 17H7v-7h2v7zm4 0h-2V7h2v10zm4 0h-2v-4h2v4z\"/>\n",
       "    </g>\n",
       "</svg>\n",
       "  </button>\n",
       "\n",
       "<style>\n",
       "  .colab-df-quickchart {\n",
       "      --bg-color: #E8F0FE;\n",
       "      --fill-color: #1967D2;\n",
       "      --hover-bg-color: #E2EBFA;\n",
       "      --hover-fill-color: #174EA6;\n",
       "      --disabled-fill-color: #AAA;\n",
       "      --disabled-bg-color: #DDD;\n",
       "  }\n",
       "\n",
       "  [theme=dark] .colab-df-quickchart {\n",
       "      --bg-color: #3B4455;\n",
       "      --fill-color: #D2E3FC;\n",
       "      --hover-bg-color: #434B5C;\n",
       "      --hover-fill-color: #FFFFFF;\n",
       "      --disabled-bg-color: #3B4455;\n",
       "      --disabled-fill-color: #666;\n",
       "  }\n",
       "\n",
       "  .colab-df-quickchart {\n",
       "    background-color: var(--bg-color);\n",
       "    border: none;\n",
       "    border-radius: 50%;\n",
       "    cursor: pointer;\n",
       "    display: none;\n",
       "    fill: var(--fill-color);\n",
       "    height: 32px;\n",
       "    padding: 0;\n",
       "    width: 32px;\n",
       "  }\n",
       "\n",
       "  .colab-df-quickchart:hover {\n",
       "    background-color: var(--hover-bg-color);\n",
       "    box-shadow: 0 1px 2px rgba(60, 64, 67, 0.3), 0 1px 3px 1px rgba(60, 64, 67, 0.15);\n",
       "    fill: var(--button-hover-fill-color);\n",
       "  }\n",
       "\n",
       "  .colab-df-quickchart-complete:disabled,\n",
       "  .colab-df-quickchart-complete:disabled:hover {\n",
       "    background-color: var(--disabled-bg-color);\n",
       "    fill: var(--disabled-fill-color);\n",
       "    box-shadow: none;\n",
       "  }\n",
       "\n",
       "  .colab-df-spinner {\n",
       "    border: 2px solid var(--fill-color);\n",
       "    border-color: transparent;\n",
       "    border-bottom-color: var(--fill-color);\n",
       "    animation:\n",
       "      spin 1s steps(1) infinite;\n",
       "  }\n",
       "\n",
       "  @keyframes spin {\n",
       "    0% {\n",
       "      border-color: transparent;\n",
       "      border-bottom-color: var(--fill-color);\n",
       "      border-left-color: var(--fill-color);\n",
       "    }\n",
       "    20% {\n",
       "      border-color: transparent;\n",
       "      border-left-color: var(--fill-color);\n",
       "      border-top-color: var(--fill-color);\n",
       "    }\n",
       "    30% {\n",
       "      border-color: transparent;\n",
       "      border-left-color: var(--fill-color);\n",
       "      border-top-color: var(--fill-color);\n",
       "      border-right-color: var(--fill-color);\n",
       "    }\n",
       "    40% {\n",
       "      border-color: transparent;\n",
       "      border-right-color: var(--fill-color);\n",
       "      border-top-color: var(--fill-color);\n",
       "    }\n",
       "    60% {\n",
       "      border-color: transparent;\n",
       "      border-right-color: var(--fill-color);\n",
       "    }\n",
       "    80% {\n",
       "      border-color: transparent;\n",
       "      border-right-color: var(--fill-color);\n",
       "      border-bottom-color: var(--fill-color);\n",
       "    }\n",
       "    90% {\n",
       "      border-color: transparent;\n",
       "      border-bottom-color: var(--fill-color);\n",
       "    }\n",
       "  }\n",
       "</style>\n",
       "\n",
       "  <script>\n",
       "    async function quickchart(key) {\n",
       "      const quickchartButtonEl =\n",
       "        document.querySelector('#' + key + ' button');\n",
       "      quickchartButtonEl.disabled = true;  // To prevent multiple clicks.\n",
       "      quickchartButtonEl.classList.add('colab-df-spinner');\n",
       "      try {\n",
       "        const charts = await google.colab.kernel.invokeFunction(\n",
       "            'suggestCharts', [key], {});\n",
       "      } catch (error) {\n",
       "        console.error('Error during call to suggestCharts:', error);\n",
       "      }\n",
       "      quickchartButtonEl.classList.remove('colab-df-spinner');\n",
       "      quickchartButtonEl.classList.add('colab-df-quickchart-complete');\n",
       "    }\n",
       "    (() => {\n",
       "      let quickchartButtonEl =\n",
       "        document.querySelector('#df-b8bcf2a9-6ac7-4ade-ab7e-911c2c17e817 button');\n",
       "      quickchartButtonEl.style.display =\n",
       "        google.colab.kernel.accessAllowed ? 'block' : 'none';\n",
       "    })();\n",
       "  </script>\n",
       "</div>\n",
       "    </div>\n",
       "  </div>\n"
      ],
      "text/plain": [
       "                                           paragraph  lexicon_count  \\\n",
       "0  ramsay bear glasgow 2 october 1852 nephew geol...             49   \n",
       "1  widely estimate generation program resource de...            166   \n",
       "2  go win royal medal royal society 1971 copley m...             69   \n",
       "3  change alter underlie assumption right thing r...             76   \n",
       "4  novel publish disraeli declare write turn atte...            200   \n",
       "\n",
       "   difficult_words  last_editor_gender_man  last_editor_gender_non-binary  \\\n",
       "0             12.0                       1                              0   \n",
       "1             47.0                       1                              0   \n",
       "2             18.0                       0                              1   \n",
       "3             27.0                       0                              1   \n",
       "4             47.0                       1                              0   \n",
       "\n",
       "   last_editor_gender_prefer_not_to_say  last_editor_gender_woman  \\\n",
       "0                                     0                         0   \n",
       "1                                     0                         0   \n",
       "2                                     0                         0   \n",
       "3                                     0                         0   \n",
       "4                                     0                         0   \n",
       "\n",
       "   category_artificial intelligence  category_biographies  \\\n",
       "0                                 0                     1   \n",
       "1                                 1                     0   \n",
       "2                                 0                     1   \n",
       "3                                 0                     0   \n",
       "4                                 0                     1   \n",
       "\n",
       "   category_movies about artificial intelligence  ...  category_programming  \\\n",
       "0                                              0  ...                     0   \n",
       "1                                              0  ...                     0   \n",
       "2                                              0  ...                     0   \n",
       "3                                              0  ...                     1   \n",
       "4                                              0  ...                     0   \n",
       "\n",
       "   has_entity_ORG_NO_PRODUCT_NO_PERSON_NO_  \\\n",
       "0                                        0   \n",
       "1                                        0   \n",
       "2                                        0   \n",
       "3                                        0   \n",
       "4                                        0   \n",
       "\n",
       "   has_entity_ORG_NO_PRODUCT_NO_PERSON_YES_  \\\n",
       "0                                         0   \n",
       "1                                         0   \n",
       "2                                         0   \n",
       "3                                         0   \n",
       "4                                         0   \n",
       "\n",
       "   has_entity_ORG_NO_PRODUCT_YES_PERSON_NO_  \\\n",
       "0                                         0   \n",
       "1                                         0   \n",
       "2                                         0   \n",
       "3                                         1   \n",
       "4                                         0   \n",
       "\n",
       "   has_entity_ORG_NO_PRODUCT_YES_PERSON_YES_  \\\n",
       "0                                          0   \n",
       "1                                          0   \n",
       "2                                          0   \n",
       "3                                          0   \n",
       "4                                          0   \n",
       "\n",
       "   has_entity_ORG_YES_PRODUCT_NO_PERSON_NO_  \\\n",
       "0                                         0   \n",
       "1                                         1   \n",
       "2                                         1   \n",
       "3                                         0   \n",
       "4                                         0   \n",
       "\n",
       "   has_entity_ORG_YES_PRODUCT_NO_PERSON_YES_  \\\n",
       "0                                          1   \n",
       "1                                          0   \n",
       "2                                          0   \n",
       "3                                          0   \n",
       "4                                          0   \n",
       "\n",
       "   has_entity_ORG_YES_PRODUCT_YES_PERSON_NO_  \\\n",
       "0                                          0   \n",
       "1                                          0   \n",
       "2                                          0   \n",
       "3                                          0   \n",
       "4                                          0   \n",
       "\n",
       "   has_entity_ORG_YES_PRODUCT_YES_PERSON_YES_  has_entity_data missing  \n",
       "0                                           0                        0  \n",
       "1                                           0                        0  \n",
       "2                                           0                        0  \n",
       "3                                           0                        0  \n",
       "4                                           1                        0  \n",
       "\n",
       "[5 rows x 21 columns]"
      ]
     },
     "execution_count": 48,
     "metadata": {},
     "output_type": "execute_result"
    }
   ],
   "source": [
    "X.head()"
   ]
  },
  {
   "cell_type": "code",
   "execution_count": null,
   "metadata": {
    "colab": {
     "base_uri": "https://localhost:8080/"
    },
    "id": "YzI_PIVCrEDX",
    "outputId": "a29e62fc-18cf-4be5-a2c2-425593fd7d8c"
   },
   "outputs": [
    {
     "name": "stdout",
     "output_type": "stream",
     "text": [
      "X length: 9027\n",
      "y Length: 9105\n"
     ]
    }
   ],
   "source": [
    "print(\"X length:\",len(X))\n",
    "print(\"y Length:\",len(y))"
   ]
  },
  {
   "cell_type": "code",
   "execution_count": null,
   "metadata": {
    "colab": {
     "base_uri": "https://localhost:8080/",
     "height": 36
    },
    "id": "2oDPIyAprKjF",
    "outputId": "10caa2b9-af63-4d02-f810-5e58a96b1542"
   },
   "outputs": [
    {
     "data": {
      "application/vnd.google.colaboratory.intrinsic+json": {
       "type": "string"
      },
      "text/plain": [
       "'text_clarity'"
      ]
     },
     "execution_count": 50,
     "metadata": {},
     "output_type": "execute_result"
    }
   ],
   "source": [
    "y.name"
   ]
  },
  {
   "cell_type": "code",
   "execution_count": null,
   "metadata": {
    "id": "hGvC2cBbrsoq"
   },
   "outputs": [],
   "source": [
    "\n",
    "import string\n",
    "EXTRA_PUNCT = string.punctuation\n",
    "\n",
    "\n",
    "import spacy\n",
    "\n",
    "nlp = spacy.load('en_core_web_md')\n",
    "\n",
    "\n",
    "\n",
    "def get_spacy_doc_embedding(text_):\n",
    "\n",
    "  doc_ = nlp(text_)\n",
    "  return doc_.vector\n",
    "\n",
    "\n",
    "def compute_avg_lemma_embedding(text_):\n",
    "  doc_ = nlp(text_)\n",
    "  avg_embedding = np.zeros_like(doc_.vector)\n",
    "  token_counter = 0\n",
    "  for token in doc_:\n",
    "    if (token.is_stop or token.is_punct or token.is_digit or (token.lemma_ in EXTRA_PUNCT)):\n",
    "      continue\n",
    "    avg_embedding += token.vector\n",
    "    token_counter+=1\n",
    "  if token_counter>0:\n",
    "    avg_embedding = avg_embedding/token_counter\n",
    "  return avg_embedding\n",
    "\n",
    "\n"
   ]
  },
  {
   "cell_type": "code",
   "execution_count": null,
   "metadata": {
    "colab": {
     "base_uri": "https://localhost:8080/"
    },
    "id": "YsIjZMwCsPzN",
    "outputId": "c746067a-3ebc-47d6-d610-7a4780a06477"
   },
   "outputs": [
    {
     "name": "stdout",
     "output_type": "stream",
     "text": [
      "Time elapsed is 127.43 seconds\n"
     ]
    }
   ],
   "source": [
    "\n",
    "from time import time as tt\n",
    "t0 = tt()\n",
    "\n",
    "df_train_emb = X['paragraph'].apply(lambda x: pd.Series(get_spacy_doc_embedding(x)))\n",
    "\n",
    "df_processed = df_train_emb.join(X.drop(['paragraph'], axis=1))\n",
    "\n",
    "df_processed.columns = df_processed.columns.astype(str)\n",
    "print(f'Time elapsed is {(tt()-t0):.2f} seconds')"
   ]
  },
  {
   "cell_type": "code",
   "execution_count": null,
   "metadata": {
    "colab": {
     "base_uri": "https://localhost:8080/",
     "height": 273
    },
    "id": "OejpnND-wKAb",
    "outputId": "ebe12f6a-5efb-44f0-d279-cfa0e7c37e26"
   },
   "outputs": [
    {
     "data": {
      "application/vnd.google.colaboratory.intrinsic+json": {
       "type": "dataframe",
       "variable_name": "df_processed"
      },
      "text/html": [
       "\n",
       "  <div id=\"df-13b49b03-4a40-4d94-bb3d-96ed1f5463f7\" class=\"colab-df-container\">\n",
       "    <div>\n",
       "<style scoped>\n",
       "    .dataframe tbody tr th:only-of-type {\n",
       "        vertical-align: middle;\n",
       "    }\n",
       "\n",
       "    .dataframe tbody tr th {\n",
       "        vertical-align: top;\n",
       "    }\n",
       "\n",
       "    .dataframe thead th {\n",
       "        text-align: right;\n",
       "    }\n",
       "</style>\n",
       "<table border=\"1\" class=\"dataframe\">\n",
       "  <thead>\n",
       "    <tr style=\"text-align: right;\">\n",
       "      <th></th>\n",
       "      <th>0</th>\n",
       "      <th>1</th>\n",
       "      <th>2</th>\n",
       "      <th>3</th>\n",
       "      <th>4</th>\n",
       "      <th>5</th>\n",
       "      <th>6</th>\n",
       "      <th>7</th>\n",
       "      <th>8</th>\n",
       "      <th>9</th>\n",
       "      <th>...</th>\n",
       "      <th>category_programming</th>\n",
       "      <th>has_entity_ORG_NO_PRODUCT_NO_PERSON_NO_</th>\n",
       "      <th>has_entity_ORG_NO_PRODUCT_NO_PERSON_YES_</th>\n",
       "      <th>has_entity_ORG_NO_PRODUCT_YES_PERSON_NO_</th>\n",
       "      <th>has_entity_ORG_NO_PRODUCT_YES_PERSON_YES_</th>\n",
       "      <th>has_entity_ORG_YES_PRODUCT_NO_PERSON_NO_</th>\n",
       "      <th>has_entity_ORG_YES_PRODUCT_NO_PERSON_YES_</th>\n",
       "      <th>has_entity_ORG_YES_PRODUCT_YES_PERSON_NO_</th>\n",
       "      <th>has_entity_ORG_YES_PRODUCT_YES_PERSON_YES_</th>\n",
       "      <th>has_entity_data missing</th>\n",
       "    </tr>\n",
       "  </thead>\n",
       "  <tbody>\n",
       "    <tr>\n",
       "      <th>0</th>\n",
       "      <td>-2.023204</td>\n",
       "      <td>-2.021704</td>\n",
       "      <td>-0.048827</td>\n",
       "      <td>-0.252624</td>\n",
       "      <td>1.123793</td>\n",
       "      <td>-0.865731</td>\n",
       "      <td>1.175693</td>\n",
       "      <td>1.027408</td>\n",
       "      <td>0.725687</td>\n",
       "      <td>1.114677</td>\n",
       "      <td>...</td>\n",
       "      <td>0</td>\n",
       "      <td>0</td>\n",
       "      <td>0</td>\n",
       "      <td>0</td>\n",
       "      <td>0</td>\n",
       "      <td>0</td>\n",
       "      <td>1</td>\n",
       "      <td>0</td>\n",
       "      <td>0</td>\n",
       "      <td>0</td>\n",
       "    </tr>\n",
       "    <tr>\n",
       "      <th>1</th>\n",
       "      <td>-0.930449</td>\n",
       "      <td>0.050088</td>\n",
       "      <td>-1.836364</td>\n",
       "      <td>0.668067</td>\n",
       "      <td>2.835504</td>\n",
       "      <td>0.268440</td>\n",
       "      <td>0.950311</td>\n",
       "      <td>2.782065</td>\n",
       "      <td>-1.716951</td>\n",
       "      <td>-1.162670</td>\n",
       "      <td>...</td>\n",
       "      <td>0</td>\n",
       "      <td>0</td>\n",
       "      <td>0</td>\n",
       "      <td>0</td>\n",
       "      <td>0</td>\n",
       "      <td>1</td>\n",
       "      <td>0</td>\n",
       "      <td>0</td>\n",
       "      <td>0</td>\n",
       "      <td>0</td>\n",
       "    </tr>\n",
       "    <tr>\n",
       "      <th>2</th>\n",
       "      <td>-1.442611</td>\n",
       "      <td>-1.849719</td>\n",
       "      <td>0.839765</td>\n",
       "      <td>-0.186629</td>\n",
       "      <td>3.256159</td>\n",
       "      <td>-0.888691</td>\n",
       "      <td>0.439857</td>\n",
       "      <td>2.606478</td>\n",
       "      <td>0.101940</td>\n",
       "      <td>0.217788</td>\n",
       "      <td>...</td>\n",
       "      <td>0</td>\n",
       "      <td>0</td>\n",
       "      <td>0</td>\n",
       "      <td>0</td>\n",
       "      <td>0</td>\n",
       "      <td>1</td>\n",
       "      <td>0</td>\n",
       "      <td>0</td>\n",
       "      <td>0</td>\n",
       "      <td>0</td>\n",
       "    </tr>\n",
       "    <tr>\n",
       "      <th>3</th>\n",
       "      <td>-1.165983</td>\n",
       "      <td>-0.412904</td>\n",
       "      <td>0.021227</td>\n",
       "      <td>0.902887</td>\n",
       "      <td>2.995505</td>\n",
       "      <td>0.372968</td>\n",
       "      <td>1.779462</td>\n",
       "      <td>3.452548</td>\n",
       "      <td>-3.606672</td>\n",
       "      <td>-0.239312</td>\n",
       "      <td>...</td>\n",
       "      <td>1</td>\n",
       "      <td>0</td>\n",
       "      <td>0</td>\n",
       "      <td>1</td>\n",
       "      <td>0</td>\n",
       "      <td>0</td>\n",
       "      <td>0</td>\n",
       "      <td>0</td>\n",
       "      <td>0</td>\n",
       "      <td>0</td>\n",
       "    </tr>\n",
       "    <tr>\n",
       "      <th>4</th>\n",
       "      <td>-1.057206</td>\n",
       "      <td>-0.256406</td>\n",
       "      <td>-0.615421</td>\n",
       "      <td>0.061713</td>\n",
       "      <td>2.736242</td>\n",
       "      <td>-0.516344</td>\n",
       "      <td>1.494883</td>\n",
       "      <td>2.162182</td>\n",
       "      <td>-1.696022</td>\n",
       "      <td>-0.676508</td>\n",
       "      <td>...</td>\n",
       "      <td>0</td>\n",
       "      <td>0</td>\n",
       "      <td>0</td>\n",
       "      <td>0</td>\n",
       "      <td>0</td>\n",
       "      <td>0</td>\n",
       "      <td>0</td>\n",
       "      <td>0</td>\n",
       "      <td>1</td>\n",
       "      <td>0</td>\n",
       "    </tr>\n",
       "  </tbody>\n",
       "</table>\n",
       "<p>5 rows × 320 columns</p>\n",
       "</div>\n",
       "    <div class=\"colab-df-buttons\">\n",
       "\n",
       "  <div class=\"colab-df-container\">\n",
       "    <button class=\"colab-df-convert\" onclick=\"convertToInteractive('df-13b49b03-4a40-4d94-bb3d-96ed1f5463f7')\"\n",
       "            title=\"Convert this dataframe to an interactive table.\"\n",
       "            style=\"display:none;\">\n",
       "\n",
       "  <svg xmlns=\"http://www.w3.org/2000/svg\" height=\"24px\" viewBox=\"0 -960 960 960\">\n",
       "    <path d=\"M120-120v-720h720v720H120Zm60-500h600v-160H180v160Zm220 220h160v-160H400v160Zm0 220h160v-160H400v160ZM180-400h160v-160H180v160Zm440 0h160v-160H620v160ZM180-180h160v-160H180v160Zm440 0h160v-160H620v160Z\"/>\n",
       "  </svg>\n",
       "    </button>\n",
       "\n",
       "  <style>\n",
       "    .colab-df-container {\n",
       "      display:flex;\n",
       "      gap: 12px;\n",
       "    }\n",
       "\n",
       "    .colab-df-convert {\n",
       "      background-color: #E8F0FE;\n",
       "      border: none;\n",
       "      border-radius: 50%;\n",
       "      cursor: pointer;\n",
       "      display: none;\n",
       "      fill: #1967D2;\n",
       "      height: 32px;\n",
       "      padding: 0 0 0 0;\n",
       "      width: 32px;\n",
       "    }\n",
       "\n",
       "    .colab-df-convert:hover {\n",
       "      background-color: #E2EBFA;\n",
       "      box-shadow: 0px 1px 2px rgba(60, 64, 67, 0.3), 0px 1px 3px 1px rgba(60, 64, 67, 0.15);\n",
       "      fill: #174EA6;\n",
       "    }\n",
       "\n",
       "    .colab-df-buttons div {\n",
       "      margin-bottom: 4px;\n",
       "    }\n",
       "\n",
       "    [theme=dark] .colab-df-convert {\n",
       "      background-color: #3B4455;\n",
       "      fill: #D2E3FC;\n",
       "    }\n",
       "\n",
       "    [theme=dark] .colab-df-convert:hover {\n",
       "      background-color: #434B5C;\n",
       "      box-shadow: 0px 1px 3px 1px rgba(0, 0, 0, 0.15);\n",
       "      filter: drop-shadow(0px 1px 2px rgba(0, 0, 0, 0.3));\n",
       "      fill: #FFFFFF;\n",
       "    }\n",
       "  </style>\n",
       "\n",
       "    <script>\n",
       "      const buttonEl =\n",
       "        document.querySelector('#df-13b49b03-4a40-4d94-bb3d-96ed1f5463f7 button.colab-df-convert');\n",
       "      buttonEl.style.display =\n",
       "        google.colab.kernel.accessAllowed ? 'block' : 'none';\n",
       "\n",
       "      async function convertToInteractive(key) {\n",
       "        const element = document.querySelector('#df-13b49b03-4a40-4d94-bb3d-96ed1f5463f7');\n",
       "        const dataTable =\n",
       "          await google.colab.kernel.invokeFunction('convertToInteractive',\n",
       "                                                    [key], {});\n",
       "        if (!dataTable) return;\n",
       "\n",
       "        const docLinkHtml = 'Like what you see? Visit the ' +\n",
       "          '<a target=\"_blank\" href=https://colab.research.google.com/notebooks/data_table.ipynb>data table notebook</a>'\n",
       "          + ' to learn more about interactive tables.';\n",
       "        element.innerHTML = '';\n",
       "        dataTable['output_type'] = 'display_data';\n",
       "        await google.colab.output.renderOutput(dataTable, element);\n",
       "        const docLink = document.createElement('div');\n",
       "        docLink.innerHTML = docLinkHtml;\n",
       "        element.appendChild(docLink);\n",
       "      }\n",
       "    </script>\n",
       "  </div>\n",
       "\n",
       "\n",
       "<div id=\"df-dc41caa3-0d60-4125-97c4-929072f83f60\">\n",
       "  <button class=\"colab-df-quickchart\" onclick=\"quickchart('df-dc41caa3-0d60-4125-97c4-929072f83f60')\"\n",
       "            title=\"Suggest charts\"\n",
       "            style=\"display:none;\">\n",
       "\n",
       "<svg xmlns=\"http://www.w3.org/2000/svg\" height=\"24px\"viewBox=\"0 0 24 24\"\n",
       "     width=\"24px\">\n",
       "    <g>\n",
       "        <path d=\"M19 3H5c-1.1 0-2 .9-2 2v14c0 1.1.9 2 2 2h14c1.1 0 2-.9 2-2V5c0-1.1-.9-2-2-2zM9 17H7v-7h2v7zm4 0h-2V7h2v10zm4 0h-2v-4h2v4z\"/>\n",
       "    </g>\n",
       "</svg>\n",
       "  </button>\n",
       "\n",
       "<style>\n",
       "  .colab-df-quickchart {\n",
       "      --bg-color: #E8F0FE;\n",
       "      --fill-color: #1967D2;\n",
       "      --hover-bg-color: #E2EBFA;\n",
       "      --hover-fill-color: #174EA6;\n",
       "      --disabled-fill-color: #AAA;\n",
       "      --disabled-bg-color: #DDD;\n",
       "  }\n",
       "\n",
       "  [theme=dark] .colab-df-quickchart {\n",
       "      --bg-color: #3B4455;\n",
       "      --fill-color: #D2E3FC;\n",
       "      --hover-bg-color: #434B5C;\n",
       "      --hover-fill-color: #FFFFFF;\n",
       "      --disabled-bg-color: #3B4455;\n",
       "      --disabled-fill-color: #666;\n",
       "  }\n",
       "\n",
       "  .colab-df-quickchart {\n",
       "    background-color: var(--bg-color);\n",
       "    border: none;\n",
       "    border-radius: 50%;\n",
       "    cursor: pointer;\n",
       "    display: none;\n",
       "    fill: var(--fill-color);\n",
       "    height: 32px;\n",
       "    padding: 0;\n",
       "    width: 32px;\n",
       "  }\n",
       "\n",
       "  .colab-df-quickchart:hover {\n",
       "    background-color: var(--hover-bg-color);\n",
       "    box-shadow: 0 1px 2px rgba(60, 64, 67, 0.3), 0 1px 3px 1px rgba(60, 64, 67, 0.15);\n",
       "    fill: var(--button-hover-fill-color);\n",
       "  }\n",
       "\n",
       "  .colab-df-quickchart-complete:disabled,\n",
       "  .colab-df-quickchart-complete:disabled:hover {\n",
       "    background-color: var(--disabled-bg-color);\n",
       "    fill: var(--disabled-fill-color);\n",
       "    box-shadow: none;\n",
       "  }\n",
       "\n",
       "  .colab-df-spinner {\n",
       "    border: 2px solid var(--fill-color);\n",
       "    border-color: transparent;\n",
       "    border-bottom-color: var(--fill-color);\n",
       "    animation:\n",
       "      spin 1s steps(1) infinite;\n",
       "  }\n",
       "\n",
       "  @keyframes spin {\n",
       "    0% {\n",
       "      border-color: transparent;\n",
       "      border-bottom-color: var(--fill-color);\n",
       "      border-left-color: var(--fill-color);\n",
       "    }\n",
       "    20% {\n",
       "      border-color: transparent;\n",
       "      border-left-color: var(--fill-color);\n",
       "      border-top-color: var(--fill-color);\n",
       "    }\n",
       "    30% {\n",
       "      border-color: transparent;\n",
       "      border-left-color: var(--fill-color);\n",
       "      border-top-color: var(--fill-color);\n",
       "      border-right-color: var(--fill-color);\n",
       "    }\n",
       "    40% {\n",
       "      border-color: transparent;\n",
       "      border-right-color: var(--fill-color);\n",
       "      border-top-color: var(--fill-color);\n",
       "    }\n",
       "    60% {\n",
       "      border-color: transparent;\n",
       "      border-right-color: var(--fill-color);\n",
       "    }\n",
       "    80% {\n",
       "      border-color: transparent;\n",
       "      border-right-color: var(--fill-color);\n",
       "      border-bottom-color: var(--fill-color);\n",
       "    }\n",
       "    90% {\n",
       "      border-color: transparent;\n",
       "      border-bottom-color: var(--fill-color);\n",
       "    }\n",
       "  }\n",
       "</style>\n",
       "\n",
       "  <script>\n",
       "    async function quickchart(key) {\n",
       "      const quickchartButtonEl =\n",
       "        document.querySelector('#' + key + ' button');\n",
       "      quickchartButtonEl.disabled = true;  // To prevent multiple clicks.\n",
       "      quickchartButtonEl.classList.add('colab-df-spinner');\n",
       "      try {\n",
       "        const charts = await google.colab.kernel.invokeFunction(\n",
       "            'suggestCharts', [key], {});\n",
       "      } catch (error) {\n",
       "        console.error('Error during call to suggestCharts:', error);\n",
       "      }\n",
       "      quickchartButtonEl.classList.remove('colab-df-spinner');\n",
       "      quickchartButtonEl.classList.add('colab-df-quickchart-complete');\n",
       "    }\n",
       "    (() => {\n",
       "      let quickchartButtonEl =\n",
       "        document.querySelector('#df-dc41caa3-0d60-4125-97c4-929072f83f60 button');\n",
       "      quickchartButtonEl.style.display =\n",
       "        google.colab.kernel.accessAllowed ? 'block' : 'none';\n",
       "    })();\n",
       "  </script>\n",
       "</div>\n",
       "    </div>\n",
       "  </div>\n"
      ],
      "text/plain": [
       "          0         1         2         3         4         5         6  \\\n",
       "0 -2.023204 -2.021704 -0.048827 -0.252624  1.123793 -0.865731  1.175693   \n",
       "1 -0.930449  0.050088 -1.836364  0.668067  2.835504  0.268440  0.950311   \n",
       "2 -1.442611 -1.849719  0.839765 -0.186629  3.256159 -0.888691  0.439857   \n",
       "3 -1.165983 -0.412904  0.021227  0.902887  2.995505  0.372968  1.779462   \n",
       "4 -1.057206 -0.256406 -0.615421  0.061713  2.736242 -0.516344  1.494883   \n",
       "\n",
       "          7         8         9  ...  category_programming  \\\n",
       "0  1.027408  0.725687  1.114677  ...                     0   \n",
       "1  2.782065 -1.716951 -1.162670  ...                     0   \n",
       "2  2.606478  0.101940  0.217788  ...                     0   \n",
       "3  3.452548 -3.606672 -0.239312  ...                     1   \n",
       "4  2.162182 -1.696022 -0.676508  ...                     0   \n",
       "\n",
       "   has_entity_ORG_NO_PRODUCT_NO_PERSON_NO_  \\\n",
       "0                                        0   \n",
       "1                                        0   \n",
       "2                                        0   \n",
       "3                                        0   \n",
       "4                                        0   \n",
       "\n",
       "   has_entity_ORG_NO_PRODUCT_NO_PERSON_YES_  \\\n",
       "0                                         0   \n",
       "1                                         0   \n",
       "2                                         0   \n",
       "3                                         0   \n",
       "4                                         0   \n",
       "\n",
       "   has_entity_ORG_NO_PRODUCT_YES_PERSON_NO_  \\\n",
       "0                                         0   \n",
       "1                                         0   \n",
       "2                                         0   \n",
       "3                                         1   \n",
       "4                                         0   \n",
       "\n",
       "   has_entity_ORG_NO_PRODUCT_YES_PERSON_YES_  \\\n",
       "0                                          0   \n",
       "1                                          0   \n",
       "2                                          0   \n",
       "3                                          0   \n",
       "4                                          0   \n",
       "\n",
       "   has_entity_ORG_YES_PRODUCT_NO_PERSON_NO_  \\\n",
       "0                                         0   \n",
       "1                                         1   \n",
       "2                                         1   \n",
       "3                                         0   \n",
       "4                                         0   \n",
       "\n",
       "   has_entity_ORG_YES_PRODUCT_NO_PERSON_YES_  \\\n",
       "0                                          1   \n",
       "1                                          0   \n",
       "2                                          0   \n",
       "3                                          0   \n",
       "4                                          0   \n",
       "\n",
       "   has_entity_ORG_YES_PRODUCT_YES_PERSON_NO_  \\\n",
       "0                                          0   \n",
       "1                                          0   \n",
       "2                                          0   \n",
       "3                                          0   \n",
       "4                                          0   \n",
       "\n",
       "   has_entity_ORG_YES_PRODUCT_YES_PERSON_YES_  has_entity_data missing  \n",
       "0                                           0                        0  \n",
       "1                                           0                        0  \n",
       "2                                           0                        0  \n",
       "3                                           0                        0  \n",
       "4                                           1                        0  \n",
       "\n",
       "[5 rows x 320 columns]"
      ]
     },
     "execution_count": 53,
     "metadata": {},
     "output_type": "execute_result"
    }
   ],
   "source": [
    "df_processed.head()"
   ]
  },
  {
   "cell_type": "code",
   "execution_count": null,
   "metadata": {
    "colab": {
     "base_uri": "https://localhost:8080/"
    },
    "id": "KdnaxBZ-wdcd",
    "outputId": "c649f68a-a96d-426b-ab69-5ba9b990685e"
   },
   "outputs": [
    {
     "name": "stdout",
     "output_type": "stream",
     "text": [
      "X: 9027\n",
      "y: 9105\n"
     ]
    }
   ],
   "source": [
    "print(\"X:\",len(df_processed))\n",
    "print(\"y:\",len(y))"
   ]
  },
  {
   "cell_type": "code",
   "execution_count": null,
   "metadata": {
    "colab": {
     "base_uri": "https://localhost:8080/"
    },
    "id": "22r0jJULwMEd",
    "outputId": "8a39824e-04de-4556-cceb-fe89409fa71b"
   },
   "outputs": [
    {
     "data": {
      "text/plain": [
       "not_clear_enough    55\n",
       "clear_enough        45\n",
       "Name: text_clarity, dtype: int64"
      ]
     },
     "execution_count": 55,
     "metadata": {},
     "output_type": "execute_result"
    }
   ],
   "source": [
    "y.value_counts()"
   ]
  },
  {
   "cell_type": "code",
   "execution_count": null,
   "metadata": {
    "id": "7eUcMPOXwbhq"
   },
   "outputs": [],
   "source": [
    "import pandas as pd\n",
    "\n",
    "\n",
    "labeled_data = pd.concat([df_processed.iloc[:100], y.iloc[:100]], axis=1)\n"
   ]
  },
  {
   "cell_type": "code",
   "execution_count": null,
   "metadata": {
    "colab": {
     "base_uri": "https://localhost:8080/"
    },
    "id": "pFWgwNwQx9UR",
    "outputId": "145fc6f5-1e39-4f1d-d0c9-d58c529edd62"
   },
   "outputs": [
    {
     "name": "stdout",
     "output_type": "stream",
     "text": [
      "0                                             0\n",
      "1                                             0\n",
      "2                                             0\n",
      "3                                             0\n",
      "4                                             0\n",
      "                                             ..\n",
      "has_entity_ORG_YES_PRODUCT_NO_PERSON_YES_     0\n",
      "has_entity_ORG_YES_PRODUCT_YES_PERSON_NO_     0\n",
      "has_entity_ORG_YES_PRODUCT_YES_PERSON_YES_    0\n",
      "has_entity_data missing                       0\n",
      "text_clarity                                  0\n",
      "Length: 321, dtype: int64\n"
     ]
    }
   ],
   "source": [
    "import pandas as pd\n",
    "\n",
    "\n",
    "nan_values = labeled_data.isna().sum()\n",
    "\n",
    "print(nan_values)"
   ]
  },
  {
   "cell_type": "code",
   "execution_count": null,
   "metadata": {
    "id": "euBQmoyCxVdm"
   },
   "outputs": [],
   "source": [
    "x_labeled = labeled_data.drop('text_clarity', axis=1)\n",
    "y_labeled = labeled_data['text_clarity']\n",
    "x_unlabeled = df_processed\n"
   ]
  },
  {
   "cell_type": "code",
   "execution_count": null,
   "metadata": {
    "id": "WTIVOJPnU7wh"
   },
   "outputs": [],
   "source": [
    "from sklearn.preprocessing import LabelEncoder\n",
    "\n",
    "label_encoder = LabelEncoder()\n",
    "\n",
    "\n",
    "y_labeled = label_encoder.fit_transform(y_labeled)"
   ]
  },
  {
   "cell_type": "code",
   "execution_count": null,
   "metadata": {
    "id": "t5RNauHjFd8z"
   },
   "outputs": [],
   "source": [
    "# y_labeled.value_counts()"
   ]
  },
  {
   "cell_type": "code",
   "execution_count": null,
   "metadata": {
    "id": "xdwyrkjXbeWq"
   },
   "outputs": [],
   "source": [
    "import pandas as pd\n",
    "from sklearn.model_selection import train_test_split\n",
    "from sklearn.svm import SVC\n",
    "from sklearn.metrics import accuracy_score, classification_report\n",
    "from sklearn.model_selection import GridSearchCV\n",
    "\n",
    "X_labeled = pd.DataFrame(x_labeled)\n",
    "y_labeled = pd.Series(y_labeled)\n",
    "X_unlabeled = pd.DataFrame(x_unlabeled)\n",
    "\n",
    "\n",
    "X_train, X_test, y_train, y_test = train_test_split(X_labeled, y_labeled, test_size=0.2, random_state=42)\n"
   ]
  },
  {
   "cell_type": "code",
   "execution_count": null,
   "metadata": {
    "colab": {
     "base_uri": "https://localhost:8080/"
    },
    "id": "XD12Qd-ZxxTC",
    "outputId": "c5668134-4376-4020-d848-b7885ef6ec9b"
   },
   "outputs": [
    {
     "name": "stdout",
     "output_type": "stream",
     "text": [
      "Initial Accuracy: 0.45\n",
      "Iteration 1: Accuracy = 0.4\n",
      "Iteration 2: Accuracy = 0.35\n",
      "Iteration 3: Accuracy = 0.3\n",
      "Iteration 4: Accuracy = 0.35\n",
      "Iteration 5: Accuracy = 0.35\n",
      "Performance history (Accuracy): [0.45, 0.4, 0.35, 0.3, 0.35, 0.35]\n"
     ]
    }
   ],
   "source": [
    "# Experimenting with Semi Supervised Learning but couldnt produce any good results with it\n",
    "from sklearn.ensemble import RandomForestClassifier\n",
    "\n",
    "\n",
    "model = RandomForestClassifier(n_estimators=100, random_state=42)\n",
    "\n",
    "\n",
    "model.fit(X_train, y_train)\n",
    "\n",
    "y_pred = model.predict(X_test)\n",
    "initial_accuracy = accuracy_score(y_test, y_pred)\n",
    "print(f'Initial Accuracy: {initial_accuracy}')\n",
    "\n",
    "\n",
    "number_of_iterations = 5\n",
    "confidence_threshold = 0.7\n",
    "\n",
    "\n",
    "performance_history = [initial_accuracy]\n",
    "\n",
    "for iteration in range(number_of_iterations):\n",
    "\n",
    "    predicted_probabilities = model.predict_proba(X_unlabeled)\n",
    "    high_confidence_indices = [i for i, prob in enumerate(predicted_probabilities.max(axis=1)) if prob > confidence_threshold]\n",
    "    pseudo_labels = predicted_probabilities[high_confidence_indices].argmax(axis=1)\n",
    "\n",
    "\n",
    "    X_pseudo_labeled = X_unlabeled.iloc[high_confidence_indices]\n",
    "\n",
    "\n",
    "    X_combined = pd.concat([X_train, X_pseudo_labeled])\n",
    "    y_combined = pd.concat([y_train, pd.Series(pseudo_labels, index=X_pseudo_labeled.index)])\n",
    "\n",
    "\n",
    "    model.fit(X_combined, y_combined)\n",
    "\n",
    "\n",
    "    y_pred = model.predict(X_test)\n",
    "    accuracy = accuracy_score(y_test, y_pred)\n",
    "    performance_history.append(accuracy)\n",
    "\n",
    "\n",
    "    print(f'Iteration {iteration + 1}: Accuracy = {accuracy}')\n",
    "\n",
    "print(\"Performance history (Accuracy):\", performance_history)\n"
   ]
  },
  {
   "cell_type": "code",
   "execution_count": null,
   "metadata": {
    "colab": {
     "base_uri": "https://localhost:8080/"
    },
    "id": "88We6cqKaznu",
    "outputId": "b143ba2b-16f1-4864-ad52-ad88a107ca48"
   },
   "outputs": [
    {
     "name": "stdout",
     "output_type": "stream",
     "text": [
      "Random Forest Accuracy: 0.45\n",
      "              precision    recall  f1-score   support\n",
      "\n",
      "           0       1.00      0.15      0.27        13\n",
      "           1       0.39      1.00      0.56         7\n",
      "\n",
      "    accuracy                           0.45        20\n",
      "   macro avg       0.69      0.58      0.41        20\n",
      "weighted avg       0.79      0.45      0.37        20\n",
      "\n"
     ]
    }
   ],
   "source": [
    "from sklearn.ensemble import RandomForestClassifier\n",
    "\n",
    "\n",
    "rf_model = RandomForestClassifier(n_estimators=100, random_state=42)\n",
    "\n",
    "\n",
    "rf_model.fit(X_train, y_train)\n",
    "\n",
    "\n",
    "y_pred_rf = rf_model.predict(X_test)\n",
    "\n",
    "\n",
    "accuracy_rf = accuracy_score(y_test, y_pred_rf)\n",
    "print(f'Random Forest Accuracy: {accuracy_rf}')\n",
    "print(classification_report(y_test, y_pred_rf))\n"
   ]
  },
  {
   "cell_type": "code",
   "execution_count": null,
   "metadata": {
    "colab": {
     "base_uri": "https://localhost:8080/"
    },
    "id": "nSRrxXga-Ta7",
    "outputId": "f48b6f9c-37e6-4771-e2f6-e3b6ce89f176"
   },
   "outputs": [
    {
     "name": "stdout",
     "output_type": "stream",
     "text": [
      "Fitting 5 folds for each of 81 candidates, totalling 405 fits\n",
      "Best parameters set found on development set:\n",
      "{'max_depth': 10, 'max_features': 'auto', 'min_samples_leaf': 2, 'min_samples_split': 2, 'n_estimators': 50}\n",
      "Best Random Forest Accuracy: 0.5\n",
      "              precision    recall  f1-score   support\n",
      "\n",
      "           0       1.00      0.23      0.38        13\n",
      "           1       0.41      1.00      0.58         7\n",
      "\n",
      "    accuracy                           0.50        20\n",
      "   macro avg       0.71      0.62      0.48        20\n",
      "weighted avg       0.79      0.50      0.45        20\n",
      "\n"
     ]
    },
    {
     "name": "stderr",
     "output_type": "stream",
     "text": [
      "/usr/local/lib/python3.10/dist-packages/sklearn/ensemble/_forest.py:424: FutureWarning: `max_features='auto'` has been deprecated in 1.1 and will be removed in 1.3. To keep the past behaviour, explicitly set `max_features='sqrt'` or remove this parameter as it is also the default value for RandomForestClassifiers and ExtraTreesClassifiers.\n",
      "  warn(\n"
     ]
    }
   ],
   "source": [
    "\n",
    "param_grid = {\n",
    "    'n_estimators': [20,30,50],  # Number of trees in the forest\n",
    "    'max_features': ['auto'],  # Number of features to consider at every split\n",
    "    'max_depth': [ 10, 20, 30],  # Maximum number of levels in tree\n",
    "    'min_samples_split': [2, 5, 10],  # Minimum number of samples required to split a node\n",
    "    'min_samples_leaf': [1, 2, 4],  # Minimum number of samples required at each leaf node\n",
    "\n",
    "}\n",
    "\n",
    "\n",
    "grid_search = GridSearchCV(RandomForestClassifier(random_state=42), param_grid, scoring='accuracy', cv=5, verbose=1, n_jobs=-1)\n",
    "\n",
    "\n",
    "grid_search.fit(X_train, y_train)\n",
    "\n",
    "# Print the best parameters\n",
    "print(\"Best parameters set found on development set:\")\n",
    "print(grid_search.best_params_)\n",
    "\n",
    "# Using the best model to make predictions\n",
    "best_rf_model = grid_search.best_estimator_\n",
    "y_pred_best_rf = best_rf_model.predict(X_test)\n",
    "\n",
    "\n",
    "accuracy_best_rf = accuracy_score(y_test, y_pred_best_rf)\n",
    "print(f'Best Random Forest Accuracy: {accuracy_best_rf}')\n",
    "print(classification_report(y_test, y_pred_best_rf))\n"
   ]
  },
  {
   "cell_type": "code",
   "execution_count": null,
   "metadata": {
    "colab": {
     "base_uri": "https://localhost:8080/"
    },
    "id": "ijjUSncKa3KQ",
    "outputId": "7c5f17bb-ae3c-4948-bf08-96e3903d1dd9"
   },
   "outputs": [
    {
     "name": "stdout",
     "output_type": "stream",
     "text": [
      "SVM Accuracy: 0.35\n",
      "              precision    recall  f1-score   support\n",
      "\n",
      "           0       0.00      0.00      0.00        13\n",
      "           1       0.35      1.00      0.52         7\n",
      "\n",
      "    accuracy                           0.35        20\n",
      "   macro avg       0.17      0.50      0.26        20\n",
      "weighted avg       0.12      0.35      0.18        20\n",
      "\n"
     ]
    },
    {
     "name": "stderr",
     "output_type": "stream",
     "text": [
      "/usr/local/lib/python3.10/dist-packages/sklearn/metrics/_classification.py:1344: UndefinedMetricWarning: Precision and F-score are ill-defined and being set to 0.0 in labels with no predicted samples. Use `zero_division` parameter to control this behavior.\n",
      "  _warn_prf(average, modifier, msg_start, len(result))\n",
      "/usr/local/lib/python3.10/dist-packages/sklearn/metrics/_classification.py:1344: UndefinedMetricWarning: Precision and F-score are ill-defined and being set to 0.0 in labels with no predicted samples. Use `zero_division` parameter to control this behavior.\n",
      "  _warn_prf(average, modifier, msg_start, len(result))\n",
      "/usr/local/lib/python3.10/dist-packages/sklearn/metrics/_classification.py:1344: UndefinedMetricWarning: Precision and F-score are ill-defined and being set to 0.0 in labels with no predicted samples. Use `zero_division` parameter to control this behavior.\n",
      "  _warn_prf(average, modifier, msg_start, len(result))\n"
     ]
    }
   ],
   "source": [
    "from sklearn.svm import SVC\n",
    "\n",
    "\n",
    "svm_model = SVC(kernel='rbf', probability=True, random_state=42)  # You can choose other kernels like 'rbf'\n",
    "\n",
    "svm_model.fit(X_train, y_train)\n",
    "\n",
    "\n",
    "y_pred_svm = svm_model.predict(X_test)\n",
    "\n",
    "\n",
    "accuracy_svm = accuracy_score(y_test, y_pred_svm)\n",
    "print(f'SVM Accuracy: {accuracy_svm}')\n",
    "print(classification_report(y_test, y_pred_svm))\n"
   ]
  },
  {
   "cell_type": "code",
   "execution_count": null,
   "metadata": {
    "colab": {
     "base_uri": "https://localhost:8080/"
    },
    "id": "395ykLsS7DQc",
    "outputId": "b198df0b-cc8b-47ad-85da-f0257d8d51e1"
   },
   "outputs": [
    {
     "name": "stdout",
     "output_type": "stream",
     "text": [
      "Fitting 5 folds for each of 40 candidates, totalling 200 fits\n",
      "Best parameters set found on development set:\n",
      "{'C': 0.1, 'degree': 2, 'gamma': 'scale', 'kernel': 'linear'}\n",
      "Best SVM Accuracy: 0.5\n",
      "              precision    recall  f1-score   support\n",
      "\n",
      "           0       0.62      0.62      0.62        13\n",
      "           1       0.29      0.29      0.29         7\n",
      "\n",
      "    accuracy                           0.50        20\n",
      "   macro avg       0.45      0.45      0.45        20\n",
      "weighted avg       0.50      0.50      0.50        20\n",
      "\n"
     ]
    }
   ],
   "source": [
    "from sklearn.model_selection import GridSearchCV\n",
    "from sklearn.metrics import accuracy_score, classification_report\n",
    "from sklearn.svm import SVC\n",
    "\n",
    "\n",
    "param_grid = {\n",
    "    'C': [0.1, 1, 10,100],  # Regularization parameter\n",
    "    'kernel': ['linear'],  # Type of kernel\n",
    "    'degree': [2, 3, 4,5,6],  # Degree of the polynomial kernel function (ignored by other kernels)\n",
    "    'gamma': ['scale', 'auto'],  # Kernel coefficient\n",
    "}\n",
    "\n",
    "\n",
    "grid_search = GridSearchCV(SVC(probability=True, random_state=42), param_grid, scoring='accuracy', cv=5, verbose=1, n_jobs=-1)\n",
    "\n",
    "\n",
    "grid_search.fit(X_train, y_train)\n",
    "\n",
    "print(\"Best parameters set found on development set:\")\n",
    "print(grid_search.best_params_)\n",
    "\n",
    "\n",
    "best_model = grid_search.best_estimator_\n",
    "y_pred_best = best_model.predict(X_test)\n",
    "\n",
    "\n",
    "accuracy_best = accuracy_score(y_test, y_pred_best)\n",
    "print(f'Best SVM Accuracy: {accuracy_best}')\n",
    "print(classification_report(y_test, y_pred_best))\n"
   ]
  },
  {
   "cell_type": "code",
   "execution_count": null,
   "metadata": {
    "id": "TT2GoZWO7LK7"
   },
   "outputs": [],
   "source": []
  },
  {
   "cell_type": "code",
   "execution_count": null,
   "metadata": {
    "colab": {
     "base_uri": "https://localhost:8080/"
    },
    "id": "FRdP2QfMa6MC",
    "outputId": "2586a3f3-b296-4c29-a776-1ec7bd909875"
   },
   "outputs": [
    {
     "name": "stdout",
     "output_type": "stream",
     "text": [
      "KNN Accuracy: 0.45\n",
      "              precision    recall  f1-score   support\n",
      "\n",
      "           0       0.62      0.38      0.48        13\n",
      "           1       0.33      0.57      0.42         7\n",
      "\n",
      "    accuracy                           0.45        20\n",
      "   macro avg       0.48      0.48      0.45        20\n",
      "weighted avg       0.52      0.45      0.46        20\n",
      "\n"
     ]
    }
   ],
   "source": [
    "from sklearn.neighbors import KNeighborsClassifier\n",
    "\n",
    "\n",
    "knn_model = KNeighborsClassifier(n_neighbors=5)\n",
    "\n",
    "\n",
    "knn_model.fit(X_train, y_train)\n",
    "\n",
    "\n",
    "y_pred_knn = knn_model.predict(X_test)\n",
    "\n",
    "\n",
    "accuracy_knn = accuracy_score(y_test, y_pred_knn)\n",
    "print(f'KNN Accuracy: {accuracy_knn}')\n",
    "print(classification_report(y_test, y_pred_knn))\n"
   ]
  },
  {
   "cell_type": "code",
   "execution_count": null,
   "metadata": {
    "colab": {
     "base_uri": "https://localhost:8080/"
    },
    "id": "R0FDJajU-gQo",
    "outputId": "a482b5fa-3a43-4b65-f8fc-a046471563c1"
   },
   "outputs": [
    {
     "name": "stdout",
     "output_type": "stream",
     "text": [
      "Fitting 5 folds for each of 30 candidates, totalling 150 fits\n",
      "Best parameters set found on development set:\n",
      "{'metric': 'euclidean', 'n_neighbors': 11, 'weights': 'uniform'}\n",
      "Best KNN Accuracy: 0.4\n",
      "              precision    recall  f1-score   support\n",
      "\n",
      "           0       0.55      0.46      0.50        13\n",
      "           1       0.22      0.29      0.25         7\n",
      "\n",
      "    accuracy                           0.40        20\n",
      "   macro avg       0.38      0.37      0.37        20\n",
      "weighted avg       0.43      0.40      0.41        20\n",
      "\n"
     ]
    }
   ],
   "source": [
    "\n",
    "param_grid = {\n",
    "    'n_neighbors': [3, 5, 7, 9, 11],  # Different values for the number of neighbors\n",
    "    'weights': ['uniform', 'distance'],  # Weight function used in prediction\n",
    "    'metric': ['euclidean', 'manhattan', 'minkowski'],  # Distance metric for KNN\n",
    "}\n",
    "\n",
    "\n",
    "grid_search = GridSearchCV(KNeighborsClassifier(), param_grid, scoring='accuracy', cv=5, verbose=1, n_jobs=-1)\n",
    "\n",
    "\n",
    "grid_search.fit(X_train, y_train)\n",
    "\n",
    "\n",
    "print(\"Best parameters set found on development set:\")\n",
    "print(grid_search.best_params_)\n",
    "\n",
    "\n",
    "best_knn_model = grid_search.best_estimator_\n",
    "y_pred_best_knn = best_knn_model.predict(X_test)\n",
    "\n",
    "\n",
    "accuracy_best_knn = accuracy_score(y_test, y_pred_best_knn)\n",
    "print(f'Best KNN Accuracy: {accuracy_best_knn}')\n",
    "print(classification_report(y_test, y_pred_best_knn))\n"
   ]
  },
  {
   "cell_type": "code",
   "execution_count": null,
   "metadata": {
    "colab": {
     "base_uri": "https://localhost:8080/"
    },
    "id": "KUphRVh_a81p",
    "outputId": "819a6080-cd5a-4ef7-8ae8-b51314f33b82"
   },
   "outputs": [
    {
     "name": "stdout",
     "output_type": "stream",
     "text": [
      "Logistic Regression Accuracy: 0.45\n",
      "              precision    recall  f1-score   support\n",
      "\n",
      "           0       0.58      0.54      0.56        13\n",
      "           1       0.25      0.29      0.27         7\n",
      "\n",
      "    accuracy                           0.45        20\n",
      "   macro avg       0.42      0.41      0.41        20\n",
      "weighted avg       0.47      0.45      0.46        20\n",
      "\n"
     ]
    }
   ],
   "source": [
    "from sklearn.linear_model import LogisticRegression\n",
    "\n",
    "\n",
    "logreg_model = LogisticRegression(max_iter=1000)  # Increase max_iter if the model doesn't converge\n",
    "\n",
    "\n",
    "logreg_model.fit(X_train, y_train)\n",
    "\n",
    "\n",
    "y_pred_logreg = logreg_model.predict(X_test)\n",
    "\n",
    "\n",
    "accuracy_logreg = accuracy_score(y_test, y_pred_logreg)\n",
    "print(f'Logistic Regression Accuracy: {accuracy_logreg}')\n",
    "print(classification_report(y_test, y_pred_logreg))\n"
   ]
  },
  {
   "cell_type": "code",
   "execution_count": null,
   "metadata": {
    "colab": {
     "base_uri": "https://localhost:8080/"
    },
    "id": "bmU-A3IE-rMw",
    "outputId": "395716a1-79b9-4fcd-fc9c-54e721e4db74"
   },
   "outputs": [
    {
     "name": "stdout",
     "output_type": "stream",
     "text": [
      "Fitting 5 folds for each of 25 candidates, totalling 125 fits\n",
      "Best parameters set found on development set:\n",
      "{'C': 100, 'penalty': 'l2', 'solver': 'liblinear'}\n",
      "Best Logistic Regression Accuracy: 0.4\n",
      "              precision    recall  f1-score   support\n",
      "\n",
      "           0       0.56      0.38      0.45        13\n",
      "           1       0.27      0.43      0.33         7\n",
      "\n",
      "    accuracy                           0.40        20\n",
      "   macro avg       0.41      0.41      0.39        20\n",
      "weighted avg       0.46      0.40      0.41        20\n",
      "\n"
     ]
    }
   ],
   "source": [
    "\n",
    "param_grid = {\n",
    "    'C': [0.01, 0.1, 1, 10, 100],  # Regularization strength\n",
    "    'solver': ['newton-cg', 'lbfgs', 'liblinear', 'sag', 'saga'],  # Algorithm to use in the optimization problem\n",
    "    'penalty': ['l1', 'l2', 'elasticnet', 'none']  # Norm used in the penalization\n",
    "}\n",
    "\n",
    "# Adjust param_grid depending on the solver to avoid incompatible combinations\n",
    "for params in param_grid['solver']:\n",
    "    if params in ['liblinear', 'saga']:\n",
    "        param_grid['penalty'] = [ 'l2']\n",
    "    elif params in ['newton-cg', 'lbfgs', 'sag']:\n",
    "        param_grid['penalty'] = ['l2', 'none']\n",
    "\n",
    "\n",
    "grid_search = GridSearchCV(LogisticRegression(max_iter=1000, random_state=42), param_grid, scoring='accuracy', cv=5, verbose=1, n_jobs=-1)\n",
    "\n",
    "\n",
    "grid_search.fit(X_train, y_train)\n",
    "\n",
    "\n",
    "print(\"Best parameters set found on development set:\")\n",
    "print(grid_search.best_params_)\n",
    "\n",
    "\n",
    "best_logreg_model = grid_search.best_estimator_\n",
    "y_pred_best_logreg = best_logreg_model.predict(X_test)\n",
    "\n",
    "\n",
    "accuracy_best_logreg = accuracy_score(y_test, y_pred_best_logreg)\n",
    "print(f'Best Logistic Regression Accuracy: {accuracy_best_logreg}')\n",
    "print(classification_report(y_test, y_pred_best_logreg))\n"
   ]
  },
  {
   "cell_type": "code",
   "execution_count": null,
   "metadata": {
    "colab": {
     "base_uri": "https://localhost:8080/",
     "height": 1000
    },
    "id": "D8O3hgP1a98D",
    "outputId": "d2011706-ab09-43cb-94b1-5f7a31efbb56"
   },
   "outputs": [
    {
     "name": "stdout",
     "output_type": "stream",
     "text": [
      "Baseline Classifier Classification Report:\n",
      "              precision    recall  f1-score   support\n",
      "\n",
      "           0       0.00      0.00      0.00        13\n",
      "           1       0.35      1.00      0.52         7\n",
      "\n",
      "    accuracy                           0.35        20\n",
      "   macro avg       0.17      0.50      0.26        20\n",
      "weighted avg       0.12      0.35      0.18        20\n",
      "\n"
     ]
    },
    {
     "name": "stderr",
     "output_type": "stream",
     "text": [
      "/usr/local/lib/python3.10/dist-packages/sklearn/metrics/_classification.py:1344: UndefinedMetricWarning: Precision and F-score are ill-defined and being set to 0.0 in labels with no predicted samples. Use `zero_division` parameter to control this behavior.\n",
      "  _warn_prf(average, modifier, msg_start, len(result))\n",
      "/usr/local/lib/python3.10/dist-packages/sklearn/metrics/_classification.py:1344: UndefinedMetricWarning: Precision and F-score are ill-defined and being set to 0.0 in labels with no predicted samples. Use `zero_division` parameter to control this behavior.\n",
      "  _warn_prf(average, modifier, msg_start, len(result))\n",
      "/usr/local/lib/python3.10/dist-packages/sklearn/metrics/_classification.py:1344: UndefinedMetricWarning: Precision and F-score are ill-defined and being set to 0.0 in labels with no predicted samples. Use `zero_division` parameter to control this behavior.\n",
      "  _warn_prf(average, modifier, msg_start, len(result))\n"
     ]
    },
    {
     "data": {
      "text/plain": [
       "<sklearn.metrics._plot.confusion_matrix.ConfusionMatrixDisplay at 0x78c159039510>"
      ]
     },
     "execution_count": 72,
     "metadata": {},
     "output_type": "execute_result"
    },
    {
     "data": {
      "image/png": "[encoded data removed]",
      "text/plain": [
       "<Figure size 640x480 with 2 Axes>"
      ]
     },
     "metadata": {},
     "output_type": "display_data"
    },
    {
     "data": {
      "image/png": "[encoded data removed]",
      "text/plain": [
       "<Figure size 640x480 with 2 Axes>"
      ]
     },
     "metadata": {},
     "output_type": "display_data"
    }
   ],
   "source": [
    "from sklearn.dummy import DummyClassifier\n",
    "from sklearn.metrics import classification_report, ConfusionMatrixDisplay\n",
    "\n",
    "\n",
    "baseline_clf = DummyClassifier(strategy=\"most_frequent\")\n",
    "baseline_clf.fit(X_train, y_train)\n",
    "\n",
    "\n",
    "y_baseline = baseline_clf.predict(X_test)\n",
    "\n",
    "\n",
    "print(\"Baseline Classifier Classification Report:\")\n",
    "print(classification_report(y_test, y_baseline))\n",
    "\n",
    "\n",
    "cm_display_baseline = ConfusionMatrixDisplay.from_estimator(baseline_clf, X_test, y_test)\n",
    "cm_display_baseline.plot()\n"
   ]
  }
 ],
 "metadata": {
  "colab": {
   "provenance": []
  },
  "kernelspec": {
   "display_name": "Python 3 (ipykernel)",
   "language": "python",
   "name": "python3"
  },
  "language_info": {
   "codemirror_mode": {
    "name": "ipython",
    "version": 3
   },
   "file_extension": ".py",
   "mimetype": "text/x-python",
   "name": "python",
   "nbconvert_exporter": "python",
   "pygments_lexer": "ipython3",
   "version": "3.11.4"
  }
 },
 "nbformat": 4,
 "nbformat_minor": 1
}
